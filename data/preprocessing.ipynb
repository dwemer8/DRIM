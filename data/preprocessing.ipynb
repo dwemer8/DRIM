{
 "cells": [
  {
   "cell_type": "markdown",
   "id": "dc932bce",
   "metadata": {},
   "source": [
    "# preprocessing.ipynb\n",
    "*_______________________*\n",
    "\n",
    "In this notebook, we're going to carry out all the pre-processing work for the TCGA-GBMLGG data. This is an important part, particularly for the clinical data, and the methylome and helper functions are largely inspired by the pre-processing carried out by [Vale-Silva et al., Sci Report, 2022.](https://www.nature.com/articles/s41598-021-92799-4).\n",
    "\n",
    "The data folder and how it was constructed is available [here](https://github.com/luisvalesilva/multisurv/tree/master/data)\n",
    "\n",
    "# Table of contents\n",
    "1. [Setup & Introduction](#p1)\n",
    "2. [Clinical Data](#p2)\n",
    "3. [DNAm](#p3)\n",
    "4. [RNA](#p4)\n",
    "5. [MRI](#p5)\n",
    "6. [WSI](#p6)\n",
    "7. [Cross-validation splits](#p7)\n",
    "\n",
    "# 1. Setup & Introduction <a name=\"p1\"></a>"
   ]
  },
  {
   "cell_type": "code",
   "execution_count": 61,
   "id": "c2c442cf",
   "metadata": {},
   "outputs": [],
   "source": [
    "# import needed libraries\n",
    "import pandas as pd\n",
    "import requests\n",
    "import io\n",
    "import pandas as pd\n",
    "import os\n",
    "import numpy as np\n",
    "from collections import OrderedDict\n",
    "import itertools\n",
    "from typing import Tuple, Dict\n",
    "import tqdm\n",
    "import matplotlib.pyplot as plt\n",
    "import json\n",
    "from sklearn.model_selection import StratifiedKFold\n",
    "from PIL import Image\n",
    "from IPython import display\n",
    "import pyvips\n",
    "import torch\n",
    "import torch.nn.functional as F\n",
    "import cv2\n",
    "import tqdm\n",
    "from sklearn.preprocessing import StandardScaler\n",
    "from sklearn.preprocessing import FunctionTransformer\n",
    "from sklearn.pipeline import Pipeline\n",
    "from joblib import dump, load\n",
    "import torchvision\n",
    "from torchvision.transforms import ToTensor\n",
    "import torch\n",
    "import json\n",
    "\n",
    "# base_path = '~/TCGA/GBMLGG/'\n",
    "base_path = '/data/BraTS_2023'"
   ]
  },
  {
   "cell_type": "code",
   "execution_count": 62,
   "id": "7a09c6cc",
   "metadata": {},
   "outputs": [
    {
     "data": {
      "text/plain": [
       "(1104, 18)"
      ]
     },
     "execution_count": 62,
     "metadata": {},
     "output_type": "execute_result"
    }
   ],
   "source": [
    "dataframe = pd.read_csv('files/clinical_data.tsv', sep='\\t')\n",
    "dataframe.shape"
   ]
  },
  {
   "cell_type": "code",
   "execution_count": 63,
   "id": "a29268b1",
   "metadata": {},
   "outputs": [
    {
     "data": {
      "text/plain": [
       "(1104, 18)"
      ]
     },
     "execution_count": 63,
     "metadata": {},
     "output_type": "execute_result"
    }
   ],
   "source": [
    "# take only samples with brain as primary site\n",
    "dataframe = dataframe[dataframe.project_id.isin(['GBM', 'LGG'])]\n",
    "dataframe.shape"
   ]
  },
  {
   "cell_type": "code",
   "execution_count": 64,
   "id": "761ae217",
   "metadata": {},
   "outputs": [
    {
     "data": {
      "text/plain": [
       "group\n",
       "train    886\n",
       "test     218\n",
       "Name: count, dtype: int64"
      ]
     },
     "execution_count": 64,
     "metadata": {},
     "output_type": "execute_result"
    }
   ],
   "source": [
    "dataframe['group'].value_counts()"
   ]
  },
  {
   "cell_type": "code",
   "execution_count": 65,
   "id": "2259145e",
   "metadata": {},
   "outputs": [
    {
     "data": {
      "text/html": [
       "<div>\n",
       "<style scoped>\n",
       "    .dataframe tbody tr th:only-of-type {\n",
       "        vertical-align: middle;\n",
       "    }\n",
       "\n",
       "    .dataframe tbody tr th {\n",
       "        vertical-align: top;\n",
       "    }\n",
       "\n",
       "    .dataframe thead th {\n",
       "        text-align: right;\n",
       "    }\n",
       "</style>\n",
       "<table border=\"1\" class=\"dataframe\">\n",
       "  <thead>\n",
       "    <tr style=\"text-align: right;\">\n",
       "      <th></th>\n",
       "      <th>Unnamed: 0</th>\n",
       "      <th>submitter_id</th>\n",
       "      <th>tumor_stage</th>\n",
       "      <th>age_at_diagnosis</th>\n",
       "      <th>prior_treatment</th>\n",
       "      <th>prior_malignancy</th>\n",
       "      <th>synchronous_malignancy</th>\n",
       "      <th>days_to_last_follow_up</th>\n",
       "      <th>gender</th>\n",
       "      <th>race</th>\n",
       "      <th>vital_status</th>\n",
       "      <th>days_to_death</th>\n",
       "      <th>treatments_pharmaceutical_treatment_or_therapy</th>\n",
       "      <th>treatments_radiation_treatment_or_therapy</th>\n",
       "      <th>project_id</th>\n",
       "      <th>time</th>\n",
       "      <th>event</th>\n",
       "      <th>group</th>\n",
       "    </tr>\n",
       "  </thead>\n",
       "  <tbody>\n",
       "    <tr>\n",
       "      <th>296</th>\n",
       "      <td>903</td>\n",
       "      <td>TCGA-HT-8104</td>\n",
       "      <td>NaN</td>\n",
       "      <td>18748.0</td>\n",
       "      <td>No</td>\n",
       "      <td>no</td>\n",
       "      <td>No</td>\n",
       "      <td>372.0</td>\n",
       "      <td>female</td>\n",
       "      <td>white</td>\n",
       "      <td>Alive</td>\n",
       "      <td>NaN</td>\n",
       "      <td>NaN</td>\n",
       "      <td>NaN</td>\n",
       "      <td>LGG</td>\n",
       "      <td>1.019178</td>\n",
       "      <td>0</td>\n",
       "      <td>train</td>\n",
       "    </tr>\n",
       "    <tr>\n",
       "      <th>1007</th>\n",
       "      <td>4383</td>\n",
       "      <td>TCGA-28-1756</td>\n",
       "      <td>NaN</td>\n",
       "      <td>28649.0</td>\n",
       "      <td>No</td>\n",
       "      <td>NaN</td>\n",
       "      <td>NaN</td>\n",
       "      <td>86.0</td>\n",
       "      <td>male</td>\n",
       "      <td>white</td>\n",
       "      <td>Alive</td>\n",
       "      <td>NaN</td>\n",
       "      <td>yes</td>\n",
       "      <td>yes</td>\n",
       "      <td>GBM</td>\n",
       "      <td>0.235616</td>\n",
       "      <td>0</td>\n",
       "      <td>train</td>\n",
       "    </tr>\n",
       "    <tr>\n",
       "      <th>1042</th>\n",
       "      <td>4418</td>\n",
       "      <td>TCGA-32-2615</td>\n",
       "      <td>NaN</td>\n",
       "      <td>22916.0</td>\n",
       "      <td>No</td>\n",
       "      <td>NaN</td>\n",
       "      <td>NaN</td>\n",
       "      <td>NaN</td>\n",
       "      <td>male</td>\n",
       "      <td>white</td>\n",
       "      <td>Dead</td>\n",
       "      <td>485.0</td>\n",
       "      <td>yes</td>\n",
       "      <td>yes</td>\n",
       "      <td>GBM</td>\n",
       "      <td>1.328767</td>\n",
       "      <td>1</td>\n",
       "      <td>train</td>\n",
       "    </tr>\n",
       "    <tr>\n",
       "      <th>762</th>\n",
       "      <td>4138</td>\n",
       "      <td>TCGA-08-0344</td>\n",
       "      <td>NaN</td>\n",
       "      <td>24253.0</td>\n",
       "      <td>No</td>\n",
       "      <td>NaN</td>\n",
       "      <td>NaN</td>\n",
       "      <td>NaN</td>\n",
       "      <td>male</td>\n",
       "      <td>white</td>\n",
       "      <td>Dead</td>\n",
       "      <td>3524.0</td>\n",
       "      <td>yes</td>\n",
       "      <td>yes</td>\n",
       "      <td>GBM</td>\n",
       "      <td>9.654795</td>\n",
       "      <td>1</td>\n",
       "      <td>train</td>\n",
       "    </tr>\n",
       "    <tr>\n",
       "      <th>127</th>\n",
       "      <td>734</td>\n",
       "      <td>TCGA-DU-8168</td>\n",
       "      <td>NaN</td>\n",
       "      <td>20136.0</td>\n",
       "      <td>No</td>\n",
       "      <td>no</td>\n",
       "      <td>No</td>\n",
       "      <td>431.0</td>\n",
       "      <td>female</td>\n",
       "      <td>white</td>\n",
       "      <td>Alive</td>\n",
       "      <td>NaN</td>\n",
       "      <td>yes</td>\n",
       "      <td>yes</td>\n",
       "      <td>LGG</td>\n",
       "      <td>1.180822</td>\n",
       "      <td>0</td>\n",
       "      <td>test</td>\n",
       "    </tr>\n",
       "    <tr>\n",
       "      <th>471</th>\n",
       "      <td>1078</td>\n",
       "      <td>TCGA-TM-A84Q</td>\n",
       "      <td>NaN</td>\n",
       "      <td>11668.0</td>\n",
       "      <td>No</td>\n",
       "      <td>no</td>\n",
       "      <td>No</td>\n",
       "      <td>772.0</td>\n",
       "      <td>male</td>\n",
       "      <td>white</td>\n",
       "      <td>Alive</td>\n",
       "      <td>NaN</td>\n",
       "      <td>no</td>\n",
       "      <td>yes</td>\n",
       "      <td>LGG</td>\n",
       "      <td>2.115068</td>\n",
       "      <td>0</td>\n",
       "      <td>train</td>\n",
       "    </tr>\n",
       "    <tr>\n",
       "      <th>33</th>\n",
       "      <td>640</td>\n",
       "      <td>TCGA-DB-A4XD</td>\n",
       "      <td>NaN</td>\n",
       "      <td>11741.0</td>\n",
       "      <td>No</td>\n",
       "      <td>no</td>\n",
       "      <td>No</td>\n",
       "      <td>1210.0</td>\n",
       "      <td>male</td>\n",
       "      <td>white</td>\n",
       "      <td>Alive</td>\n",
       "      <td>NaN</td>\n",
       "      <td>yes</td>\n",
       "      <td>yes</td>\n",
       "      <td>LGG</td>\n",
       "      <td>3.315068</td>\n",
       "      <td>0</td>\n",
       "      <td>train</td>\n",
       "    </tr>\n",
       "    <tr>\n",
       "      <th>364</th>\n",
       "      <td>971</td>\n",
       "      <td>TCGA-P5-A72X</td>\n",
       "      <td>NaN</td>\n",
       "      <td>7913.0</td>\n",
       "      <td>No</td>\n",
       "      <td>no</td>\n",
       "      <td>No</td>\n",
       "      <td>403.0</td>\n",
       "      <td>male</td>\n",
       "      <td>white</td>\n",
       "      <td>Alive</td>\n",
       "      <td>NaN</td>\n",
       "      <td>NaN</td>\n",
       "      <td>yes</td>\n",
       "      <td>LGG</td>\n",
       "      <td>1.104110</td>\n",
       "      <td>0</td>\n",
       "      <td>train</td>\n",
       "    </tr>\n",
       "    <tr>\n",
       "      <th>265</th>\n",
       "      <td>872</td>\n",
       "      <td>TCGA-HT-7688</td>\n",
       "      <td>NaN</td>\n",
       "      <td>21844.0</td>\n",
       "      <td>No</td>\n",
       "      <td>no</td>\n",
       "      <td>No</td>\n",
       "      <td>964.0</td>\n",
       "      <td>male</td>\n",
       "      <td>white</td>\n",
       "      <td>Alive</td>\n",
       "      <td>NaN</td>\n",
       "      <td>yes</td>\n",
       "      <td>yes</td>\n",
       "      <td>LGG</td>\n",
       "      <td>2.641096</td>\n",
       "      <td>0</td>\n",
       "      <td>train</td>\n",
       "    </tr>\n",
       "    <tr>\n",
       "      <th>278</th>\n",
       "      <td>885</td>\n",
       "      <td>TCGA-HT-7860</td>\n",
       "      <td>NaN</td>\n",
       "      <td>22034.0</td>\n",
       "      <td>No</td>\n",
       "      <td>no</td>\n",
       "      <td>No</td>\n",
       "      <td>15.0</td>\n",
       "      <td>female</td>\n",
       "      <td>white</td>\n",
       "      <td>Alive</td>\n",
       "      <td>NaN</td>\n",
       "      <td>NaN</td>\n",
       "      <td>NaN</td>\n",
       "      <td>LGG</td>\n",
       "      <td>0.041096</td>\n",
       "      <td>0</td>\n",
       "      <td>train</td>\n",
       "    </tr>\n",
       "  </tbody>\n",
       "</table>\n",
       "</div>"
      ],
      "text/plain": [
       "      Unnamed: 0  submitter_id  tumor_stage  age_at_diagnosis prior_treatment   \n",
       "296          903  TCGA-HT-8104          NaN           18748.0              No  \\\n",
       "1007        4383  TCGA-28-1756          NaN           28649.0              No   \n",
       "1042        4418  TCGA-32-2615          NaN           22916.0              No   \n",
       "762         4138  TCGA-08-0344          NaN           24253.0              No   \n",
       "127          734  TCGA-DU-8168          NaN           20136.0              No   \n",
       "471         1078  TCGA-TM-A84Q          NaN           11668.0              No   \n",
       "33           640  TCGA-DB-A4XD          NaN           11741.0              No   \n",
       "364          971  TCGA-P5-A72X          NaN            7913.0              No   \n",
       "265          872  TCGA-HT-7688          NaN           21844.0              No   \n",
       "278          885  TCGA-HT-7860          NaN           22034.0              No   \n",
       "\n",
       "     prior_malignancy synchronous_malignancy  days_to_last_follow_up  gender   \n",
       "296                no                     No                   372.0  female  \\\n",
       "1007              NaN                    NaN                    86.0    male   \n",
       "1042              NaN                    NaN                     NaN    male   \n",
       "762               NaN                    NaN                     NaN    male   \n",
       "127                no                     No                   431.0  female   \n",
       "471                no                     No                   772.0    male   \n",
       "33                 no                     No                  1210.0    male   \n",
       "364                no                     No                   403.0    male   \n",
       "265                no                     No                   964.0    male   \n",
       "278                no                     No                    15.0  female   \n",
       "\n",
       "       race vital_status  days_to_death   \n",
       "296   white        Alive            NaN  \\\n",
       "1007  white        Alive            NaN   \n",
       "1042  white         Dead          485.0   \n",
       "762   white         Dead         3524.0   \n",
       "127   white        Alive            NaN   \n",
       "471   white        Alive            NaN   \n",
       "33    white        Alive            NaN   \n",
       "364   white        Alive            NaN   \n",
       "265   white        Alive            NaN   \n",
       "278   white        Alive            NaN   \n",
       "\n",
       "     treatments_pharmaceutical_treatment_or_therapy   \n",
       "296                                             NaN  \\\n",
       "1007                                            yes   \n",
       "1042                                            yes   \n",
       "762                                             yes   \n",
       "127                                             yes   \n",
       "471                                              no   \n",
       "33                                              yes   \n",
       "364                                             NaN   \n",
       "265                                             yes   \n",
       "278                                             NaN   \n",
       "\n",
       "     treatments_radiation_treatment_or_therapy project_id      time  event   \n",
       "296                                        NaN        LGG  1.019178      0  \\\n",
       "1007                                       yes        GBM  0.235616      0   \n",
       "1042                                       yes        GBM  1.328767      1   \n",
       "762                                        yes        GBM  9.654795      1   \n",
       "127                                        yes        LGG  1.180822      0   \n",
       "471                                        yes        LGG  2.115068      0   \n",
       "33                                         yes        LGG  3.315068      0   \n",
       "364                                        yes        LGG  1.104110      0   \n",
       "265                                        yes        LGG  2.641096      0   \n",
       "278                                        NaN        LGG  0.041096      0   \n",
       "\n",
       "      group  \n",
       "296   train  \n",
       "1007  train  \n",
       "1042  train  \n",
       "762   train  \n",
       "127    test  \n",
       "471   train  \n",
       "33    train  \n",
       "364   train  \n",
       "265   train  \n",
       "278   train  "
      ]
     },
     "execution_count": 65,
     "metadata": {},
     "output_type": "execute_result"
    }
   ],
   "source": [
    "dataframe.sample(10)"
   ]
  },
  {
   "cell_type": "code",
   "execution_count": 66,
   "id": "a4f20012",
   "metadata": {},
   "outputs": [
    {
     "data": {
      "text/plain": [
       "count    1103.000000\n",
       "mean       51.448461\n",
       "std        15.752966\n",
       "min        10.909589\n",
       "25%        38.580822\n",
       "50%        52.463014\n",
       "75%        63.243836\n",
       "max        89.347945\n",
       "Name: age_at_diagnosis, dtype: float64"
      ]
     },
     "execution_count": 66,
     "metadata": {},
     "output_type": "execute_result"
    }
   ],
   "source": [
    "dataframe['age_at_diagnosis'].apply(lambda x: x/365).describe()"
   ]
  },
  {
   "cell_type": "code",
   "execution_count": 67,
   "id": "90f9e142",
   "metadata": {},
   "outputs": [
    {
     "data": {
      "text/plain": [
       "count    616.000000\n",
       "mean       1.778603\n",
       "std        2.083828\n",
       "min        0.008219\n",
       "25%        0.582192\n",
       "50%        1.186301\n",
       "75%        2.015068\n",
       "max       14.153425\n",
       "Name: days_to_death, dtype: float64"
      ]
     },
     "execution_count": 67,
     "metadata": {},
     "output_type": "execute_result"
    }
   ],
   "source": [
    "dataframe[dataframe[\"vital_status\"] == \"Dead\"]['days_to_death'].apply(lambda x: x/365).describe()"
   ]
  },
  {
   "cell_type": "code",
   "execution_count": 68,
   "id": "60c914d1",
   "metadata": {},
   "outputs": [
    {
     "data": {
      "text/plain": [
       "count    488.000000\n",
       "mean       2.190933\n",
       "std        2.283600\n",
       "min        0.000000\n",
       "25%        0.695205\n",
       "50%        1.558904\n",
       "75%        2.861644\n",
       "max       17.597260\n",
       "Name: days_to_last_follow_up, dtype: float64"
      ]
     },
     "execution_count": 68,
     "metadata": {},
     "output_type": "execute_result"
    }
   ],
   "source": [
    "dataframe[dataframe[\"vital_status\"] == \"Alive\"]['days_to_last_follow_up'].apply(lambda x: x/365).describe()"
   ]
  },
  {
   "cell_type": "code",
   "execution_count": 69,
   "id": "63af528e",
   "metadata": {},
   "outputs": [],
   "source": [
    "# helpers function\n",
    "def request_file_info(data_type):\n",
    "    \"\"\"\n",
    "    Adapted from Vale-Silva's preprocessing.\n",
    "    \"\"\"\n",
    "    fields = [\n",
    "        'file_name',\n",
    "        'cases.submitter_id',\n",
    "        'cases.samples.sample_type',\n",
    "        'cases.project.project_id',\n",
    "        'cases.project.primary_site',\n",
    "        ]\n",
    "\n",
    "    fields = ','.join(fields)\n",
    "\n",
    "    files_endpt = 'https://api.gdc.cancer.gov/files'\n",
    "\n",
    "    filters = {\n",
    "        'op': 'and',\n",
    "        'content':[\n",
    "             {\n",
    "        \"op\": \"in\",\n",
    "        \"content\":{\n",
    "            \"field\": \"cases.project.primary_site\",\n",
    "            \"value\": [\"Brain\"]\n",
    "            }\n",
    "        },{\n",
    "            'op': 'in',\n",
    "            'content':{\n",
    "                'field': 'files.experimental_strategy',\n",
    "                'value': [data_type]\n",
    "                }\n",
    "            }  \n",
    "        ]\n",
    "    }\n",
    "\n",
    "    params = {\n",
    "        'filters': filters,\n",
    "        'fields': fields,\n",
    "        'format': 'TSV',\n",
    "        'size': '200000'\n",
    "        }\n",
    "\n",
    "    response = requests.post(files_endpt, headers = {'Content-Type': 'application/json'}, json = params)\n",
    "\n",
    "    return pd.read_csv(io.StringIO(response.content.decode('utf-8')), sep='\\t')"
   ]
  },
  {
   "cell_type": "code",
   "execution_count": 7,
   "id": "96d2ffad",
   "metadata": {},
   "outputs": [],
   "source": [
    "def make_patient_file_map(df, base_dir):\n",
    "    \"\"\"\n",
    "    Adapted from Vale-Silva's preprocessing.\n",
    "    \"\"\"\n",
    "    \n",
    "    d = {}\n",
    "    for _, row in df.iterrows():\n",
    "        patient = row['cases.0.submitter_id']\n",
    "        if os.path.exists(os.path.join(base_dir, row.id, row.file_name)):\n",
    "            if patient in d:\n",
    "                if not isinstance(d[patient], tuple):\n",
    "                    d[patient] = (\n",
    "                        d[patient],\n",
    "                        os.path.join(base_dir, row.id, row.file_name))\n",
    "                else:\n",
    "                    d[patient] += os.path.join(base_dir, row.id, row.file_name),\n",
    "            else:\n",
    "                d[patient] = os.path.join(base_dir, row.id, row.file_name)\n",
    "\n",
    "    return d"
   ]
  },
  {
   "cell_type": "markdown",
   "id": "a9e51845",
   "metadata": {},
   "source": [
    "# 2. Clinical Data <a name=\"p2\"></a>"
   ]
  },
  {
   "cell_type": "code",
   "execution_count": 8,
   "id": "c8103fdf",
   "metadata": {},
   "outputs": [],
   "source": [
    "%%capture\n",
    "supplementary = pd.read_csv('files/supplementary_data.tsv', sep='\\t')"
   ]
  },
  {
   "cell_type": "code",
   "execution_count": 9,
   "id": "d0ccc09d",
   "metadata": {},
   "outputs": [],
   "source": [
    "mapper_clin = {\n",
    "    'patient': 'submitter_id', \n",
    "    'IDH.status': 'IDH', \n",
    "    'MGMT.promoter.status': 'MGMT',\n",
    "    'X1p.19q.codeletion': 'X1p19q',\n",
    "    'Chr.19.20.co.gain': '19.20.gain',\n",
    "    'Chr.7.gain.Chr.10.loss': '7g10l',\n",
    "    'TERT.expression.status': 'TERT',\n",
    "    'ATRX.status': 'ATRX',\n",
    "}"
   ]
  },
  {
   "cell_type": "code",
   "execution_count": 10,
   "id": "6a1068d0",
   "metadata": {},
   "outputs": [],
   "source": [
    "supplementary = supplementary.drop(columns=['IDH', 'Mutations', 'TERT']).rename(columns=mapper_clin)[list(mapper_clin.values())]\n",
    "supplementary = supplementary[~supplementary.duplicated(subset=['submitter_id'], keep='first')].dropna(subset='submitter_id')"
   ]
  },
  {
   "cell_type": "code",
   "execution_count": 11,
   "id": "e597403b",
   "metadata": {},
   "outputs": [
    {
     "data": {
      "text/plain": [
       "(1104, 25)"
      ]
     },
     "execution_count": 11,
     "metadata": {},
     "output_type": "execute_result"
    }
   ],
   "source": [
    "dataframe = dataframe.merge(supplementary, how='left', on='submitter_id')\n",
    "dataframe.shape"
   ]
  },
  {
   "cell_type": "code",
   "execution_count": 12,
   "id": "983bf56a",
   "metadata": {},
   "outputs": [
    {
     "name": "stdout",
     "output_type": "stream",
     "text": [
      "submitter_id\n",
      "TCGA-CS-4938    1\n",
      "TCGA-06-5415    1\n",
      "TCGA-06-5859    1\n",
      "TCGA-06-5858    1\n",
      "TCGA-06-5856    1\n",
      "               ..\n",
      "TCGA-P5-A77X    1\n",
      "TCGA-P5-A780    1\n",
      "TCGA-P5-A781    1\n",
      "TCGA-QH-A65R    1\n",
      "TCGA-RR-A6KC    1\n",
      "Name: count, Length: 1104, dtype: int64\n",
      "IDH\n",
      "WT        529\n",
      "Mutant    453\n",
      "Name: count, dtype: int64\n",
      "MGMT\n",
      "Methylated      607\n",
      "Unmethylated    311\n",
      "Name: count, dtype: int64\n",
      "X1p19q\n",
      "non-codel    913\n",
      "codel        169\n",
      "Name: count, dtype: int64\n",
      "19.20.gain\n",
      "No chr 19/20 gain    969\n",
      "Gain chr 19/20       104\n",
      "Name: count, dtype: int64\n",
      "7g10l\n",
      "No combined CNA             644\n",
      "Gain chr 7 & loss chr 10    429\n",
      "Name: count, dtype: int64\n",
      "TERT\n",
      "Expressed        348\n",
      "Not expressed    312\n",
      "Name: count, dtype: int64\n",
      "ATRX\n",
      "WT        601\n",
      "Mutant    208\n",
      "Name: count, dtype: int64\n"
     ]
    }
   ],
   "source": [
    "for col in list(mapper_clin.values()):\n",
    "    print(dataframe[col].value_counts())"
   ]
  },
  {
   "cell_type": "markdown",
   "id": "27f7ba16",
   "metadata": {},
   "source": [
    "Replace abnormal values with NaNs, which will be managed later and normalize age and mutations count."
   ]
  },
  {
   "cell_type": "markdown",
   "id": "ba08c336",
   "metadata": {},
   "source": [
    "# 3. DNAm <a name=\"p3\"></a>"
   ]
  },
  {
   "cell_type": "code",
   "execution_count": null,
   "id": "76e75af9",
   "metadata": {},
   "outputs": [],
   "source": [
    "%%time \n",
    "DNAm_files = request_file_info(data_type='Methylation Array')\n",
    "DNAm_files.shape"
   ]
  },
  {
   "cell_type": "code",
   "execution_count": null,
   "id": "78d601fa",
   "metadata": {},
   "outputs": [],
   "source": [
    "DNAm_files = DNAm_files[DNAm_files['cases.0.project.project_id'].str.startswith('TCGA')]\n",
    "DNAm_files = DNAm_files[DNAm_files['file_name'].str.endswith('level3betas.txt')]\n",
    "DNAm_files = DNAm_files[DNAm_files['cases.0.samples.0.sample_type'] == 'Primary Tumor']\n",
    "DNAm_files.shape"
   ]
  },
  {
   "cell_type": "code",
   "execution_count": null,
   "id": "a372610c",
   "metadata": {},
   "outputs": [],
   "source": [
    "print('All rows:       ', DNAm_files.shape[0])\n",
    "print('Unique patients:', DNAm_files['cases.0.submitter_id'].unique().shape[0])"
   ]
  },
  {
   "cell_type": "code",
   "execution_count": null,
   "id": "fe0f0407",
   "metadata": {},
   "outputs": [],
   "source": [
    "DNAm_files = DNAm_files[~DNAm_files.duplicated(subset=['cases.0.submitter_id'], keep='first')]\n",
    "DNAm_files.shape"
   ]
  },
  {
   "cell_type": "code",
   "execution_count": null,
   "id": "502c39d2",
   "metadata": {},
   "outputs": [],
   "source": [
    "file_map = make_patient_file_map(DNAm_files, base_dir=os.path.join(base_path, 'raw_DNAm'))\n",
    "file_map = {k: file_map[k] for k in file_map if k in list(dataframe['submitter_id'])}\n",
    "len(file_map)"
   ]
  },
  {
   "cell_type": "code",
   "execution_count": null,
   "id": "04d5a8a2",
   "metadata": {},
   "outputs": [],
   "source": [
    "DNAm_mapping = pd.DataFrame([(k, v) for k, v in file_map.items()], columns=('submitter_id', 'DNAm'))\n",
    "dataframe = dataframe.merge(DNAm_mapping, how='left', on='submitter_id')"
   ]
  },
  {
   "cell_type": "markdown",
   "id": "d9ef18e2",
   "metadata": {},
   "source": [
    "### Process DNAm\n",
    "Some files contain 480K probes and others only 27k, so only the probes common to both need to be kept for processing."
   ]
  },
  {
   "cell_type": "code",
   "execution_count": null,
   "id": "878de3eb",
   "metadata": {},
   "outputs": [],
   "source": [
    "sample_480k = pd.read_csv(os.path.join(base_path, 'raw_DNAm', 'f366f277-4079-449d-a781-0a0492a3ae41', 'e3976274-ad65-4d85-bf5c-9c10f2502748.methylation_array.sesame.level3betas.txt'), sep='\\t', index_col=0, header=None)\n",
    "sample_27k = pd.read_csv(os.path.join(base_path, 'raw_DNAm', '61fdc0ee-31d6-4051-bc1c-64feaa2e4042', 'fbc63a44-89c8-411c-87c9-05fd4138647a.methylation_array.sesame.level3betas.txt'), sep='\\t', index_col=0, header=None)\n",
    "\n",
    "probe_set = [p for p in list(sample_27k.index) if p in sample_480k.index]\n",
    "len(probe_set)"
   ]
  },
  {
   "cell_type": "code",
   "execution_count": null,
   "id": "eaf41a17",
   "metadata": {},
   "outputs": [],
   "source": [
    "output_path = os.path.join(base_path, 'DNAm')\n",
    "input_path = os.path.join(base_path, 'raw_DNAm')\n",
    "\n",
    "if not os.path.exists(output_path):\n",
    "    os.makedirs(output_path)\n",
    "    \n",
    "for idx in tqdm.tqdm(os.listdir(input_path)):\n",
    "    if not os.path.exists(os.path.join(output_path, idx)):\n",
    "        os.makedirs(os.path.join(output_path, idx))\n",
    "        \n",
    "    files = os.listdir(os.path.join(input_path, idx))\n",
    "    filename = [file for file in files if 'level3betas.txt' in file][0]\n",
    "    temp_df = pd.read_csv(os.path.join(input_path, idx, filename), sep='\\t', index_col=0, header=None, names=['Composite Element REF', 'Beta_value'])\n",
    "    temp_df = temp_df[temp_df.index.isin(probe_set)]\n",
    "    temp_df.to_csv(os.path.join(output_path, idx, filename.replace('txt', 'csv')))"
   ]
  },
  {
   "cell_type": "code",
   "execution_count": null,
   "id": "f708fab9",
   "metadata": {},
   "outputs": [],
   "source": [
    "def replace_dnam(x):\n",
    "    if pd.isna(x):\n",
    "        return x\n",
    "    else:\n",
    "        return str(x).replace('raw_DNAm', 'DNAm').replace('txt', 'csv')\n",
    "    \n",
    "    \n",
    "dataframe['DNAm'] = dataframe['DNAm'].apply(replace_dnam)"
   ]
  },
  {
   "cell_type": "markdown",
   "id": "a767e95d",
   "metadata": {},
   "source": [
    "# 4. RNASeq <a name=\"p4\"></a>"
   ]
  },
  {
   "cell_type": "code",
   "execution_count": null,
   "id": "634df151",
   "metadata": {},
   "outputs": [],
   "source": [
    "%%time\n",
    "\n",
    "mRNA_files = request_file_info(data_type='RNA-Seq')\n",
    "mRNA_files.shape"
   ]
  },
  {
   "cell_type": "code",
   "execution_count": null,
   "id": "d1ab26f3",
   "metadata": {},
   "outputs": [],
   "source": [
    "mRNA_files = mRNA_files[mRNA_files['cases.0.project.project_id'].str.startswith('TCGA')]\n",
    "mRNA_files = mRNA_files[mRNA_files['file_name'].str.endswith('rna_seq.augmented_star_gene_counts.tsv')]\n",
    "mRNA_files = mRNA_files[mRNA_files['cases.0.samples.0.sample_type'] == 'Primary Tumor']\n",
    "mRNA_files.shape"
   ]
  },
  {
   "cell_type": "code",
   "execution_count": null,
   "id": "60d83eef",
   "metadata": {},
   "outputs": [],
   "source": [
    "print('All rows:       ', mRNA_files.shape[0])\n",
    "print('Unique patients:', mRNA_files['cases.0.submitter_id'].unique().shape[0])"
   ]
  },
  {
   "cell_type": "code",
   "execution_count": null,
   "id": "543a6184",
   "metadata": {},
   "outputs": [],
   "source": [
    "mRNA_files = mRNA_files[~mRNA_files.duplicated(subset=['cases.0.submitter_id'], keep='first')]\n",
    "mRNA_files.shape"
   ]
  },
  {
   "cell_type": "code",
   "execution_count": null,
   "id": "7560b446",
   "metadata": {},
   "outputs": [],
   "source": [
    "file_map = make_patient_file_map(mRNA_files, os.path.join(base_path, 'raw_RNA'))\n",
    "file_map = {k: file_map[k] for k in file_map if k in list(dataframe['submitter_id'])}\n",
    "len(file_map)"
   ]
  },
  {
   "cell_type": "code",
   "execution_count": null,
   "id": "81ee08d3",
   "metadata": {},
   "outputs": [],
   "source": [
    "RNA_mapping = pd.DataFrame([(k, v) for k, v in file_map.items()], columns=('submitter_id', 'RNA'))\n",
    "dataframe = dataframe.merge(RNA_mapping, how='left', on='submitter_id')"
   ]
  },
  {
   "cell_type": "markdown",
   "id": "4493718a",
   "metadata": {},
   "source": [
    "## Preprocessing\n",
    "In this section, we only consider genes coding for proteins, and we also remove genes with a variance of less than 0.1 on the training set. "
   ]
  },
  {
   "cell_type": "code",
   "execution_count": null,
   "id": "315abb54",
   "metadata": {},
   "outputs": [],
   "source": [
    "def load_single_file_RNA(path):\n",
    "    temp_df = pd.read_csv(path, sep='\\t', skiprows=6, usecols=[0, 2, 8], names=['gene_id', 'gene_type', 'fpkm_uq_unstranded']).set_index('gene_id')#, 2, 3, 4, 5, 6, 7, 8])\n",
    "    temp_df = temp_df[temp_df['gene_type'] == 'protein_coding']['fpkm_uq_unstranded']\n",
    "    return temp_df\n",
    "\n",
    "dataframe_train = dataframe[dataframe.group == 'train']\n",
    "file_map_train = make_patient_file_map(mRNA_files, os.path.join(base_path, 'raw_RNA'))\n",
    "file_map_train = {k: file_map[k] for k in file_map if k in list(dataframe_train['submitter_id'])}\n",
    "len(file_map_train)"
   ]
  },
  {
   "cell_type": "code",
   "execution_count": null,
   "id": "eabf75a3",
   "metadata": {},
   "outputs": [],
   "source": [
    "rna_train_dataframe = pd.concat([load_single_file_RNA(path) for path in file_map_train.values()], axis=1)"
   ]
  },
  {
   "cell_type": "code",
   "execution_count": null,
   "id": "0852e46b",
   "metadata": {},
   "outputs": [],
   "source": [
    "gene_description = rna_train_dataframe.T.describe()"
   ]
  },
  {
   "cell_type": "code",
   "execution_count": null,
   "id": "acbeb8b6",
   "metadata": {},
   "outputs": [],
   "source": [
    "genes_to_keep = gene_description.columns[gene_description.iloc[2, :] > 0.1].values.tolist()"
   ]
  },
  {
   "cell_type": "code",
   "execution_count": null,
   "id": "54e862d6",
   "metadata": {},
   "outputs": [],
   "source": [
    "def load_preprocessed_single_file_RNA(path, genes_to_keep=genes_to_keep):\n",
    "    temp_df = load_single_file_RNA(path)\n",
    "    return temp_df.loc[genes_to_keep]"
   ]
  },
  {
   "cell_type": "markdown",
   "id": "66f6b84a",
   "metadata": {},
   "source": [
    "Copy clean dataframes ready for use to a new directory"
   ]
  },
  {
   "cell_type": "code",
   "execution_count": null,
   "id": "c71d5dbc",
   "metadata": {},
   "outputs": [],
   "source": [
    "genes_to_keep"
   ]
  },
  {
   "cell_type": "code",
   "execution_count": null,
   "id": "2cd8280e",
   "metadata": {},
   "outputs": [],
   "source": [
    "output_path = os.path.join(base_path, 'RNA')\n",
    "\n",
    "if not os.path.exists(output_path):\n",
    "    os.makedirs(output_path)\n",
    "\n",
    "for patient, filepath in tqdm.tqdm(file_map.items()):\n",
    "    idx, filename = filepath.split('/')[-2:]\n",
    "    if not os.path.exists(os.path.join(output_path, idx)):\n",
    "        os.makedirs(os.path.join(output_path, idx))\n",
    "        \n",
    "    temp_df = load_preprocessed_single_file_RNA(filepath)\n",
    "    temp_df.to_csv(os.path.join(output_path, idx, filename.replace('tsv', 'csv')))"
   ]
  },
  {
   "cell_type": "code",
   "execution_count": null,
   "id": "e02afab9",
   "metadata": {},
   "outputs": [],
   "source": [
    "def replace_rna(x):\n",
    "    if pd.isna(x):\n",
    "        return x\n",
    "    else:\n",
    "        return str(x).replace('raw_RNA', 'RNA').replace('tsv', 'csv')\n",
    "    \n",
    "    \n",
    "dataframe['RNA'] = dataframe['RNA'].apply(replace_rna)"
   ]
  },
  {
   "cell_type": "markdown",
   "id": "876e1418",
   "metadata": {},
   "source": [
    "# 5. MRI <a name=\"p5\"></a>\n",
    "For this part, we are using the overlap with patients from the BraTS and TCGA competitions, using the mapping file available on the competition website. Since the BraTS competition contains over a thousand cases and only 165 from the TCGA, we will first of all pre-train the models on the MRIs using a contrastive technique ([SimCLR](https://arxiv.org/abs/2002.05709)) inspired by the [MONAI tutorial](https://github.com/Project-MONAI/tutorials/tree/main/self_supervised_pretraining/vit_unetr_ssl)."
   ]
  },
  {
   "cell_type": "code",
   "execution_count": 70,
   "id": "b74e9bb0",
   "metadata": {},
   "outputs": [
    {
     "data": {
      "text/html": [
       "<div>\n",
       "<style scoped>\n",
       "    .dataframe tbody tr th:only-of-type {\n",
       "        vertical-align: middle;\n",
       "    }\n",
       "\n",
       "    .dataframe tbody tr th {\n",
       "        vertical-align: top;\n",
       "    }\n",
       "\n",
       "    .dataframe thead th {\n",
       "        text-align: right;\n",
       "    }\n",
       "</style>\n",
       "<table border=\"1\" class=\"dataframe\">\n",
       "  <thead>\n",
       "    <tr style=\"text-align: right;\">\n",
       "      <th></th>\n",
       "      <th>BraTS2023</th>\n",
       "      <th>BraTS2021</th>\n",
       "      <th>BraTS2020</th>\n",
       "      <th>BraTS2019</th>\n",
       "      <th>BraTS2018</th>\n",
       "      <th>BraTS2017</th>\n",
       "      <th>Cohort Name (if publicly available)</th>\n",
       "      <th>Site No (represents the originating institution)</th>\n",
       "      <th>Local ID</th>\n",
       "    </tr>\n",
       "  </thead>\n",
       "  <tbody>\n",
       "    <tr>\n",
       "      <th>0</th>\n",
       "      <td>BraTS-GLI-00000-000</td>\n",
       "      <td>BraTS2021_00000</td>\n",
       "      <td>NaN</td>\n",
       "      <td>NaN</td>\n",
       "      <td>NaN</td>\n",
       "      <td>NaN</td>\n",
       "      <td>Private Collection</td>\n",
       "      <td>18</td>\n",
       "      <td>NaN</td>\n",
       "    </tr>\n",
       "    <tr>\n",
       "      <th>1</th>\n",
       "      <td>BraTS-GLI-00002-000</td>\n",
       "      <td>BraTS2021_00002</td>\n",
       "      <td>NaN</td>\n",
       "      <td>NaN</td>\n",
       "      <td>NaN</td>\n",
       "      <td>NaN</td>\n",
       "      <td>Private Collection</td>\n",
       "      <td>18</td>\n",
       "      <td>NaN</td>\n",
       "    </tr>\n",
       "    <tr>\n",
       "      <th>2</th>\n",
       "      <td>BraTS-GLI-00003-000</td>\n",
       "      <td>BraTS2021_00003</td>\n",
       "      <td>NaN</td>\n",
       "      <td>NaN</td>\n",
       "      <td>NaN</td>\n",
       "      <td>NaN</td>\n",
       "      <td>Private Collection</td>\n",
       "      <td>18</td>\n",
       "      <td>NaN</td>\n",
       "    </tr>\n",
       "    <tr>\n",
       "      <th>3</th>\n",
       "      <td>BraTS-GLI-00005-000</td>\n",
       "      <td>BraTS2021_00005</td>\n",
       "      <td>NaN</td>\n",
       "      <td>NaN</td>\n",
       "      <td>NaN</td>\n",
       "      <td>NaN</td>\n",
       "      <td>Private Collection</td>\n",
       "      <td>18</td>\n",
       "      <td>NaN</td>\n",
       "    </tr>\n",
       "    <tr>\n",
       "      <th>4</th>\n",
       "      <td>BraTS-GLI-00006-000</td>\n",
       "      <td>BraTS2021_00006</td>\n",
       "      <td>NaN</td>\n",
       "      <td>NaN</td>\n",
       "      <td>NaN</td>\n",
       "      <td>NaN</td>\n",
       "      <td>Private Collection</td>\n",
       "      <td>18</td>\n",
       "      <td>NaN</td>\n",
       "    </tr>\n",
       "  </tbody>\n",
       "</table>\n",
       "</div>"
      ],
      "text/plain": [
       "             BraTS2023        BraTS2021 BraTS2020 BraTS2019 BraTS2018   \n",
       "0  BraTS-GLI-00000-000  BraTS2021_00000       NaN       NaN       NaN  \\\n",
       "1  BraTS-GLI-00002-000  BraTS2021_00002       NaN       NaN       NaN   \n",
       "2  BraTS-GLI-00003-000  BraTS2021_00003       NaN       NaN       NaN   \n",
       "3  BraTS-GLI-00005-000  BraTS2021_00005       NaN       NaN       NaN   \n",
       "4  BraTS-GLI-00006-000  BraTS2021_00006       NaN       NaN       NaN   \n",
       "\n",
       "  BraTS2017 Cohort Name (if publicly available)   \n",
       "0       NaN                  Private Collection  \\\n",
       "1       NaN                  Private Collection   \n",
       "2       NaN                  Private Collection   \n",
       "3       NaN                  Private Collection   \n",
       "4       NaN                  Private Collection   \n",
       "\n",
       "   Site No (represents the originating institution) Local ID   \n",
       "0                                                18       NaN  \n",
       "1                                                18       NaN  \n",
       "2                                                18       NaN  \n",
       "3                                                18       NaN  \n",
       "4                                                18       NaN  "
      ]
     },
     "execution_count": 70,
     "metadata": {},
     "output_type": "execute_result"
    }
   ],
   "source": [
    "mapping_file = 'mappings/BraTS2023_2017_GLI_Mapping.xlsx'\n",
    "mapping_mri = pd.read_excel(mapping_file)\n",
    "mapping_mri.head()"
   ]
  },
  {
   "cell_type": "markdown",
   "id": "b4dbb00b",
   "metadata": {},
   "source": [
    "### pretrain"
   ]
  },
  {
   "cell_type": "code",
   "execution_count": 71,
   "id": "20a3f77d",
   "metadata": {},
   "outputs": [],
   "source": [
    "mapping_mri_pretrain = pd.merge(\n",
    "    left=mapping_mri,\n",
    "    right=dataframe[[\"submitter_id\", \"group\"]],\n",
    "    how=\"left\",\n",
    "    left_on=\"Local ID \",\n",
    "    right_on=\"submitter_id\"\n",
    ")\n",
    "mapping_mri_pretrain.rename({\"BraTS2023\": \"MRI\"}, axis=\"columns\", inplace=True)\n",
    "mapping_mri_pretrain = mapping_mri_pretrain[[\"MRI\", \"submitter_id\", \"group\"]]"
   ]
  },
  {
   "cell_type": "code",
   "execution_count": 72,
   "id": "398d67be",
   "metadata": {},
   "outputs": [
    {
     "data": {
      "text/html": [
       "<div>\n",
       "<style scoped>\n",
       "    .dataframe tbody tr th:only-of-type {\n",
       "        vertical-align: middle;\n",
       "    }\n",
       "\n",
       "    .dataframe tbody tr th {\n",
       "        vertical-align: top;\n",
       "    }\n",
       "\n",
       "    .dataframe thead th {\n",
       "        text-align: right;\n",
       "    }\n",
       "</style>\n",
       "<table border=\"1\" class=\"dataframe\">\n",
       "  <thead>\n",
       "    <tr style=\"text-align: right;\">\n",
       "      <th></th>\n",
       "      <th>MRI</th>\n",
       "      <th>submitter_id</th>\n",
       "      <th>group</th>\n",
       "    </tr>\n",
       "  </thead>\n",
       "  <tbody>\n",
       "    <tr>\n",
       "      <th>559</th>\n",
       "      <td>BraTS-GLI-00803-000</td>\n",
       "      <td>NaN</td>\n",
       "      <td>NaN</td>\n",
       "    </tr>\n",
       "    <tr>\n",
       "      <th>1113</th>\n",
       "      <td>BraTS-GLI-01529-000</td>\n",
       "      <td>TCGA-HT-7602</td>\n",
       "      <td>train</td>\n",
       "    </tr>\n",
       "    <tr>\n",
       "      <th>1009</th>\n",
       "      <td>BraTS-GLI-01425-000</td>\n",
       "      <td>NaN</td>\n",
       "      <td>NaN</td>\n",
       "    </tr>\n",
       "    <tr>\n",
       "      <th>59</th>\n",
       "      <td>BraTS-GLI-00090-000</td>\n",
       "      <td>NaN</td>\n",
       "      <td>NaN</td>\n",
       "    </tr>\n",
       "    <tr>\n",
       "      <th>656</th>\n",
       "      <td>BraTS-GLI-01072-000</td>\n",
       "      <td>NaN</td>\n",
       "      <td>NaN</td>\n",
       "    </tr>\n",
       "  </tbody>\n",
       "</table>\n",
       "</div>"
      ],
      "text/plain": [
       "                      MRI  submitter_id  group\n",
       "559   BraTS-GLI-00803-000           NaN    NaN\n",
       "1113  BraTS-GLI-01529-000  TCGA-HT-7602  train\n",
       "1009  BraTS-GLI-01425-000           NaN    NaN\n",
       "59    BraTS-GLI-00090-000           NaN    NaN\n",
       "656   BraTS-GLI-01072-000           NaN    NaN"
      ]
     },
     "execution_count": 72,
     "metadata": {},
     "output_type": "execute_result"
    }
   ],
   "source": [
    "mapping_mri_pretrain.sample(5)"
   ]
  },
  {
   "cell_type": "code",
   "execution_count": 73,
   "id": "f90426ff",
   "metadata": {},
   "outputs": [
    {
     "data": {
      "text/plain": [
       "group\n",
       "train    126\n",
       "test      39\n",
       "Name: count, dtype: int64"
      ]
     },
     "execution_count": 73,
     "metadata": {},
     "output_type": "execute_result"
    }
   ],
   "source": [
    "mapping_mri_pretrain['group'].value_counts()"
   ]
  },
  {
   "cell_type": "code",
   "execution_count": 74,
   "id": "bbb7b5d6",
   "metadata": {},
   "outputs": [],
   "source": [
    "mapping_mri_pretrain.to_csv(\"files/mri_pretrain.csv\")"
   ]
  },
  {
   "cell_type": "markdown",
   "id": "3c0da889",
   "metadata": {},
   "source": [
    "### fine-tune"
   ]
  },
  {
   "cell_type": "code",
   "execution_count": 75,
   "id": "46a35ce2",
   "metadata": {},
   "outputs": [
    {
     "data": {
      "text/plain": [
       "(167, 9)"
      ]
     },
     "execution_count": 75,
     "metadata": {},
     "output_type": "execute_result"
    }
   ],
   "source": [
    "mapping_mri = mapping_mri[mapping_mri['Cohort Name (if publicly available)'].str.contains('TCGA')]\n",
    "mapping_mri.shape"
   ]
  },
  {
   "cell_type": "code",
   "execution_count": 76,
   "id": "db8b2ff3",
   "metadata": {},
   "outputs": [
    {
     "data": {
      "text/html": [
       "<div>\n",
       "<style scoped>\n",
       "    .dataframe tbody tr th:only-of-type {\n",
       "        vertical-align: middle;\n",
       "    }\n",
       "\n",
       "    .dataframe tbody tr th {\n",
       "        vertical-align: top;\n",
       "    }\n",
       "\n",
       "    .dataframe thead th {\n",
       "        text-align: right;\n",
       "    }\n",
       "</style>\n",
       "<table border=\"1\" class=\"dataframe\">\n",
       "  <thead>\n",
       "    <tr style=\"text-align: right;\">\n",
       "      <th></th>\n",
       "      <th>BraTS2023</th>\n",
       "      <th>BraTS2021</th>\n",
       "      <th>BraTS2020</th>\n",
       "      <th>BraTS2019</th>\n",
       "      <th>BraTS2018</th>\n",
       "      <th>BraTS2017</th>\n",
       "      <th>Cohort Name (if publicly available)</th>\n",
       "      <th>Site No (represents the originating institution)</th>\n",
       "      <th>Local ID</th>\n",
       "    </tr>\n",
       "  </thead>\n",
       "  <tbody>\n",
       "    <tr>\n",
       "      <th>66</th>\n",
       "      <td>BraTS-GLI-00100-000</td>\n",
       "      <td>BraTS2021_00100</td>\n",
       "      <td>BraTS20_Training_174</td>\n",
       "      <td>BraTS19_TCIA01_231_1</td>\n",
       "      <td>Brats18_TCIA01_231_1</td>\n",
       "      <td>Brats17_TCIA_231_1</td>\n",
       "      <td>TCGA-GBM</td>\n",
       "      <td>5</td>\n",
       "      <td>TCGA-02-0085</td>\n",
       "    </tr>\n",
       "    <tr>\n",
       "      <th>68</th>\n",
       "      <td>BraTS-GLI-00102-000</td>\n",
       "      <td>BraTS2021_00102</td>\n",
       "      <td>BraTS20_Training_177</td>\n",
       "      <td>BraTS19_TCIA01_411_1</td>\n",
       "      <td>Brats18_TCIA01_411_1</td>\n",
       "      <td>Brats17_TCIA_411_1</td>\n",
       "      <td>TCGA-GBM</td>\n",
       "      <td>5</td>\n",
       "      <td>TCGA-02-0102</td>\n",
       "    </tr>\n",
       "    <tr>\n",
       "      <th>70</th>\n",
       "      <td>BraTS-GLI-00104-000</td>\n",
       "      <td>BraTS2021_00104</td>\n",
       "      <td>BraTS20_Training_229</td>\n",
       "      <td>BraTS19_TCIA04_479_1</td>\n",
       "      <td>Brats18_TCIA04_479_1</td>\n",
       "      <td>Brats17_TCIA_479_1</td>\n",
       "      <td>TCGA-GBM</td>\n",
       "      <td>8</td>\n",
       "      <td>TCGA-12-1094</td>\n",
       "    </tr>\n",
       "    <tr>\n",
       "      <th>71</th>\n",
       "      <td>BraTS-GLI-00105-000</td>\n",
       "      <td>BraTS2021_00105</td>\n",
       "      <td>BraTS20_Training_208</td>\n",
       "      <td>BraTS19_TCIA02_222_1</td>\n",
       "      <td>Brats18_TCIA02_222_1</td>\n",
       "      <td>Brats17_TCIA_222_1</td>\n",
       "      <td>TCGA-GBM</td>\n",
       "      <td>6</td>\n",
       "      <td>TCGA-06-1802</td>\n",
       "    </tr>\n",
       "    <tr>\n",
       "      <th>72</th>\n",
       "      <td>BraTS-GLI-00106-000</td>\n",
       "      <td>BraTS2021_00106</td>\n",
       "      <td>BraTS20_Training_241</td>\n",
       "      <td>BraTS19_TCIA06_372_1</td>\n",
       "      <td>Brats18_TCIA06_372_1</td>\n",
       "      <td>Brats17_TCIA_372_1</td>\n",
       "      <td>TCGA-GBM</td>\n",
       "      <td>10</td>\n",
       "      <td>TCGA-19-2631</td>\n",
       "    </tr>\n",
       "  </tbody>\n",
       "</table>\n",
       "</div>"
      ],
      "text/plain": [
       "              BraTS2023        BraTS2021             BraTS2020   \n",
       "66  BraTS-GLI-00100-000  BraTS2021_00100  BraTS20_Training_174  \\\n",
       "68  BraTS-GLI-00102-000  BraTS2021_00102  BraTS20_Training_177   \n",
       "70  BraTS-GLI-00104-000  BraTS2021_00104  BraTS20_Training_229   \n",
       "71  BraTS-GLI-00105-000  BraTS2021_00105  BraTS20_Training_208   \n",
       "72  BraTS-GLI-00106-000  BraTS2021_00106  BraTS20_Training_241   \n",
       "\n",
       "               BraTS2019             BraTS2018           BraTS2017   \n",
       "66  BraTS19_TCIA01_231_1  Brats18_TCIA01_231_1  Brats17_TCIA_231_1  \\\n",
       "68  BraTS19_TCIA01_411_1  Brats18_TCIA01_411_1  Brats17_TCIA_411_1   \n",
       "70  BraTS19_TCIA04_479_1  Brats18_TCIA04_479_1  Brats17_TCIA_479_1   \n",
       "71  BraTS19_TCIA02_222_1  Brats18_TCIA02_222_1  Brats17_TCIA_222_1   \n",
       "72  BraTS19_TCIA06_372_1  Brats18_TCIA06_372_1  Brats17_TCIA_372_1   \n",
       "\n",
       "   Cohort Name (if publicly available)   \n",
       "66                            TCGA-GBM  \\\n",
       "68                            TCGA-GBM   \n",
       "70                            TCGA-GBM   \n",
       "71                            TCGA-GBM   \n",
       "72                            TCGA-GBM   \n",
       "\n",
       "    Site No (represents the originating institution)     Local ID   \n",
       "66                                                 5  TCGA-02-0085  \n",
       "68                                                 5  TCGA-02-0102  \n",
       "70                                                 8  TCGA-12-1094  \n",
       "71                                                 6  TCGA-06-1802  \n",
       "72                                                10  TCGA-19-2631  "
      ]
     },
     "execution_count": 76,
     "metadata": {},
     "output_type": "execute_result"
    }
   ],
   "source": [
    "mapping_mri.head()"
   ]
  },
  {
   "cell_type": "code",
   "execution_count": 77,
   "id": "267acda3",
   "metadata": {},
   "outputs": [
    {
     "data": {
      "text/plain": [
       "165"
      ]
     },
     "execution_count": 77,
     "metadata": {},
     "output_type": "execute_result"
    }
   ],
   "source": [
    "# file_map = {tcga_idx: os.path.join(base_path, 'MRI', brats_idx) for tcga_idx, brats_idx in zip(mapping_mri['Local ID '], mapping_mri['BraTS2021'])}\n",
    "file_map = {tcga_idx: os.path.join(base_path, 'MRI', brats_idx) for tcga_idx, brats_idx in zip(mapping_mri['Local ID '], mapping_mri['BraTS2023'])}\n",
    "file_map = {k: file_map[k] for k in file_map if k in list(dataframe['submitter_id'])}\n",
    "len(file_map)"
   ]
  },
  {
   "cell_type": "code",
   "execution_count": 78,
   "id": "9f7e07ab",
   "metadata": {},
   "outputs": [],
   "source": [
    "MRI_mapping = pd.DataFrame([(k, v) for k, v in file_map.items()], columns=('submitter_id', 'MRI'))\n",
    "dataframe = dataframe.merge(MRI_mapping, how='left', on='submitter_id')"
   ]
  },
  {
   "cell_type": "code",
   "execution_count": 79,
   "id": "d29c8f09",
   "metadata": {},
   "outputs": [
    {
     "data": {
      "text/html": [
       "<div>\n",
       "<style scoped>\n",
       "    .dataframe tbody tr th:only-of-type {\n",
       "        vertical-align: middle;\n",
       "    }\n",
       "\n",
       "    .dataframe tbody tr th {\n",
       "        vertical-align: top;\n",
       "    }\n",
       "\n",
       "    .dataframe thead th {\n",
       "        text-align: right;\n",
       "    }\n",
       "</style>\n",
       "<table border=\"1\" class=\"dataframe\">\n",
       "  <thead>\n",
       "    <tr style=\"text-align: right;\">\n",
       "      <th></th>\n",
       "      <th>Unnamed: 0</th>\n",
       "      <th>submitter_id</th>\n",
       "      <th>tumor_stage</th>\n",
       "      <th>age_at_diagnosis</th>\n",
       "      <th>prior_treatment</th>\n",
       "      <th>prior_malignancy</th>\n",
       "      <th>synchronous_malignancy</th>\n",
       "      <th>days_to_last_follow_up</th>\n",
       "      <th>gender</th>\n",
       "      <th>race</th>\n",
       "      <th>vital_status</th>\n",
       "      <th>days_to_death</th>\n",
       "      <th>treatments_pharmaceutical_treatment_or_therapy</th>\n",
       "      <th>treatments_radiation_treatment_or_therapy</th>\n",
       "      <th>project_id</th>\n",
       "      <th>time</th>\n",
       "      <th>event</th>\n",
       "      <th>group</th>\n",
       "      <th>MRI</th>\n",
       "    </tr>\n",
       "  </thead>\n",
       "  <tbody>\n",
       "    <tr>\n",
       "      <th>0</th>\n",
       "      <td>607</td>\n",
       "      <td>TCGA-CS-4938</td>\n",
       "      <td>NaN</td>\n",
       "      <td>11509.0</td>\n",
       "      <td>No</td>\n",
       "      <td>no</td>\n",
       "      <td>No</td>\n",
       "      <td>3574.0</td>\n",
       "      <td>female</td>\n",
       "      <td>white</td>\n",
       "      <td>Alive</td>\n",
       "      <td>NaN</td>\n",
       "      <td>no</td>\n",
       "      <td>no</td>\n",
       "      <td>LGG</td>\n",
       "      <td>9.791781</td>\n",
       "      <td>0</td>\n",
       "      <td>train</td>\n",
       "      <td>NaN</td>\n",
       "    </tr>\n",
       "    <tr>\n",
       "      <th>1</th>\n",
       "      <td>608</td>\n",
       "      <td>TCGA-CS-4941</td>\n",
       "      <td>NaN</td>\n",
       "      <td>24578.0</td>\n",
       "      <td>No</td>\n",
       "      <td>no</td>\n",
       "      <td>No</td>\n",
       "      <td>NaN</td>\n",
       "      <td>male</td>\n",
       "      <td>white</td>\n",
       "      <td>Dead</td>\n",
       "      <td>234.0</td>\n",
       "      <td>yes</td>\n",
       "      <td>yes</td>\n",
       "      <td>LGG</td>\n",
       "      <td>0.641096</td>\n",
       "      <td>1</td>\n",
       "      <td>train</td>\n",
       "      <td>NaN</td>\n",
       "    </tr>\n",
       "    <tr>\n",
       "      <th>2</th>\n",
       "      <td>609</td>\n",
       "      <td>TCGA-CS-4942</td>\n",
       "      <td>NaN</td>\n",
       "      <td>16297.0</td>\n",
       "      <td>No</td>\n",
       "      <td>no</td>\n",
       "      <td>No</td>\n",
       "      <td>NaN</td>\n",
       "      <td>female</td>\n",
       "      <td>black or african american</td>\n",
       "      <td>Dead</td>\n",
       "      <td>1335.0</td>\n",
       "      <td>no</td>\n",
       "      <td>yes</td>\n",
       "      <td>LGG</td>\n",
       "      <td>3.657534</td>\n",
       "      <td>1</td>\n",
       "      <td>train</td>\n",
       "      <td>/data/BraTS_2023/MRI/BraTS-GLI-01476-000</td>\n",
       "    </tr>\n",
       "    <tr>\n",
       "      <th>3</th>\n",
       "      <td>610</td>\n",
       "      <td>TCGA-CS-4943</td>\n",
       "      <td>NaN</td>\n",
       "      <td>13565.0</td>\n",
       "      <td>No</td>\n",
       "      <td>no</td>\n",
       "      <td>No</td>\n",
       "      <td>NaN</td>\n",
       "      <td>male</td>\n",
       "      <td>white</td>\n",
       "      <td>Dead</td>\n",
       "      <td>1106.0</td>\n",
       "      <td>yes</td>\n",
       "      <td>no</td>\n",
       "      <td>LGG</td>\n",
       "      <td>3.030137</td>\n",
       "      <td>1</td>\n",
       "      <td>train</td>\n",
       "      <td>NaN</td>\n",
       "    </tr>\n",
       "    <tr>\n",
       "      <th>4</th>\n",
       "      <td>611</td>\n",
       "      <td>TCGA-CS-4944</td>\n",
       "      <td>NaN</td>\n",
       "      <td>18494.0</td>\n",
       "      <td>No</td>\n",
       "      <td>no</td>\n",
       "      <td>No</td>\n",
       "      <td>1828.0</td>\n",
       "      <td>male</td>\n",
       "      <td>white</td>\n",
       "      <td>Alive</td>\n",
       "      <td>NaN</td>\n",
       "      <td>no</td>\n",
       "      <td>yes</td>\n",
       "      <td>LGG</td>\n",
       "      <td>5.008219</td>\n",
       "      <td>0</td>\n",
       "      <td>train</td>\n",
       "      <td>/data/BraTS_2023/MRI/BraTS-GLI-01477-000</td>\n",
       "    </tr>\n",
       "  </tbody>\n",
       "</table>\n",
       "</div>"
      ],
      "text/plain": [
       "   Unnamed: 0  submitter_id  tumor_stage  age_at_diagnosis prior_treatment   \n",
       "0         607  TCGA-CS-4938          NaN           11509.0              No  \\\n",
       "1         608  TCGA-CS-4941          NaN           24578.0              No   \n",
       "2         609  TCGA-CS-4942          NaN           16297.0              No   \n",
       "3         610  TCGA-CS-4943          NaN           13565.0              No   \n",
       "4         611  TCGA-CS-4944          NaN           18494.0              No   \n",
       "\n",
       "  prior_malignancy synchronous_malignancy  days_to_last_follow_up  gender   \n",
       "0               no                     No                  3574.0  female  \\\n",
       "1               no                     No                     NaN    male   \n",
       "2               no                     No                     NaN  female   \n",
       "3               no                     No                     NaN    male   \n",
       "4               no                     No                  1828.0    male   \n",
       "\n",
       "                        race vital_status  days_to_death   \n",
       "0                      white        Alive            NaN  \\\n",
       "1                      white         Dead          234.0   \n",
       "2  black or african american         Dead         1335.0   \n",
       "3                      white         Dead         1106.0   \n",
       "4                      white        Alive            NaN   \n",
       "\n",
       "  treatments_pharmaceutical_treatment_or_therapy   \n",
       "0                                             no  \\\n",
       "1                                            yes   \n",
       "2                                             no   \n",
       "3                                            yes   \n",
       "4                                             no   \n",
       "\n",
       "  treatments_radiation_treatment_or_therapy project_id      time  event   \n",
       "0                                        no        LGG  9.791781      0  \\\n",
       "1                                       yes        LGG  0.641096      1   \n",
       "2                                       yes        LGG  3.657534      1   \n",
       "3                                        no        LGG  3.030137      1   \n",
       "4                                       yes        LGG  5.008219      0   \n",
       "\n",
       "   group                                       MRI  \n",
       "0  train                                       NaN  \n",
       "1  train                                       NaN  \n",
       "2  train  /data/BraTS_2023/MRI/BraTS-GLI-01476-000  \n",
       "3  train                                       NaN  \n",
       "4  train  /data/BraTS_2023/MRI/BraTS-GLI-01477-000  "
      ]
     },
     "execution_count": 79,
     "metadata": {},
     "output_type": "execute_result"
    }
   ],
   "source": [
    "dataframe.head()"
   ]
  },
  {
   "cell_type": "markdown",
   "id": "3d05de30",
   "metadata": {},
   "source": [
    "Since the segmentation masks are also supplied and to reduce the complexity of calculating the 3D convolutions, several scenarios have been devised: training on the entire volume, training on a volume centred around the tumour, using all the modalities or just FLAIR and T1wCE.\n",
    "\n",
    "To pre-train, simply go to the root of the project and perform the following CLI:\n",
    "\n",
    "$ python -m data.run_mri_pretraining\n",
    "\n",
    "**NB**: Numerous hyperparameters can be modified, such as the modalities used, whether the entire volume or just the tumour is viewed, etc...\n",
    "\n",
    "In this work, we choose to freeze the encoder and extract embeddings from tumour-centred data with Flair and T1ce modalities. To do this, you can use the python script provided.\n",
    "\n",
    "$ python -m data.extract_brain_embeddings"
   ]
  },
  {
   "cell_type": "markdown",
   "id": "6b8b4a92",
   "metadata": {},
   "source": [
    "# 6. WSI <a name=\"p6\"></a>\n",
    "\n",
    "This part is much more complex than the previous ones, and the entire processing pipeline is described below.\n",
    "First of all, as the WSIs take up a lot of storage space, those of the LGG project and those of the GBM project are stored on separate disks (code to be adapted according to each case)."
   ]
  },
  {
   "cell_type": "code",
   "execution_count": null,
   "id": "221cecb3",
   "metadata": {},
   "outputs": [],
   "source": [
    "%%time\n",
    "wsi_files = request_file_info(data_type='Diagnostic Slide')\n",
    "wsi_files.shape"
   ]
  },
  {
   "cell_type": "code",
   "execution_count": null,
   "id": "87a37ce0",
   "metadata": {},
   "outputs": [],
   "source": [
    "wsi_files.head()"
   ]
  },
  {
   "cell_type": "code",
   "execution_count": null,
   "id": "29b70feb",
   "metadata": {},
   "outputs": [],
   "source": [
    "wsi_files = wsi_files[wsi_files['cases.0.project.project_id'].str.startswith('TCGA')]\n",
    "wsi_files = wsi_files[wsi_files['file_name'].str.endswith('.svs')]\n",
    "wsi_files = wsi_files[wsi_files['cases.0.samples.0.sample_type'] == 'Primary Tumor']\n",
    "wsi_files.shape"
   ]
  },
  {
   "cell_type": "code",
   "execution_count": null,
   "id": "83e99da4",
   "metadata": {},
   "outputs": [],
   "source": [
    "print('All rows:       ', wsi_files.shape[0])\n",
    "print('Unique patients:', wsi_files['cases.0.submitter_id'].unique().shape[0])"
   ]
  },
  {
   "cell_type": "code",
   "execution_count": null,
   "id": "a4f14a34",
   "metadata": {},
   "outputs": [],
   "source": [
    "file_map_gbm = make_patient_file_map(wsi_files, '/media/hddext/medical/TCGA-GBM_WSI/')\n",
    "file_map_gbm = {k: file_map_gbm[k] for k in file_map_gbm if k in list(dataframe['submitter_id'])}\n",
    "len(file_map_gbm)"
   ]
  },
  {
   "cell_type": "code",
   "execution_count": null,
   "id": "c0b1a591",
   "metadata": {},
   "outputs": [],
   "source": [
    "file_map_lgg = make_patient_file_map(wsi_files, '/archive/medical/tcga_lgg/wsi/')\n",
    "file_map_lgg = {k: file_map_lgg[k] for k in file_map_lgg if k in list(dataframe['submitter_id'])}\n",
    "len(file_map_lgg)"
   ]
  },
  {
   "cell_type": "code",
   "execution_count": null,
   "id": "ef52aba2",
   "metadata": {},
   "outputs": [],
   "source": [
    "file_map = {**file_map_gbm, **file_map_lgg}\n",
    "len(file_map)"
   ]
  },
  {
   "cell_type": "markdown",
   "id": "4c08f0d7",
   "metadata": {},
   "source": [
    "### Create thumbnails and masks\n",
    "\n",
    "To create lower-resolution images and the corresponding mask, which can then be used to patch in the required areas.\n",
    "\n",
    "To create the mask, we'll use [OTSU filtering](https://www.researchgate.net/publication/202972407_Survey_over_image_thresholding_techniques_and_quantitative_performance_evaluation) and HSV conversion to filter out felt-tip marks.\n",
    "To do this, simply use the command line:\n",
    "```\n",
    "$ python get_wsi_thumbnails.py -p PATH/TO/YOUR/DATA\n",
    "```\n",
    "**In this case, as the LGGs were stored elsewhere than the GBMs, This script is used twice, once on each folder.**\n",
    "\n",
    "### Select only one slide per each patient\n",
    "For many patients, there are several slides, up to 9. For the sake of simplicity here and to eliminate as much noisy data as possible (with felt-tip markers, air bubbles, etc.), the small code below plots the corresponding thumbnail for each patient with several slides. An arbitrary choice is made (see `wsi_mapping.json`), keeping the best quality, flawless, wide and heterogeneous images. \n",
    "\n",
    "**Be careful, The slide index starts at zero!!!**"
   ]
  },
  {
   "cell_type": "code",
   "execution_count": null,
   "id": "7cff0e29",
   "metadata": {},
   "outputs": [],
   "source": [
    "id2path = {}\n",
    "for patient_id, path in file_map.items():\n",
    "    if isinstance(path, tuple):\n",
    "        n_slides = len(path)\n",
    "        plt.figure(figsize=(12, 12))\n",
    "        for i in range(n_slides):\n",
    "            plt.subplot(1, n_slides, i+1)\n",
    "            plt.axis('off')\n",
    "            plt.title(pyvips.Image.new_from_file(path[i]).get('aperio.AppMag'))\n",
    "            thumbnail_path = '/'.join(path[i].split('/')[:-1])\n",
    "            thumbnail = np.array(Image.open(os.path.join(thumbnail_path, 'thumbnail.jpg')))\n",
    "            plt.imshow(thumbnail)\n",
    "        display.display(plt.gcf())\n",
    "        display.clear_output(wait=True)\n",
    "        plt.show()\n",
    "        idx = int(input())\n",
    "        id2path[patient_id] = path[idx]\n",
    "    else:\n",
    "        id2path[patient_id] = path"
   ]
  },
  {
   "cell_type": "code",
   "execution_count": null,
   "id": "350f1221",
   "metadata": {},
   "outputs": [],
   "source": [
    "import json\n",
    "with open('mappings/wsi_mapping.json', 'w') as f:\n",
    "    # write the dictionary to the file in JSON format\n",
    "    json.dump(id2path, f)"
   ]
  },
  {
   "cell_type": "code",
   "execution_count": null,
   "id": "7007adf5",
   "metadata": {},
   "outputs": [],
   "source": [
    "with open('mappings/wsi_mapping.json', 'r') as f:\n",
    "    wsi_mapping = json.load(f)\n",
    "    \n",
    "WSI_mapping = pd.DataFrame([(k, v) for k, v in wsi_mapping.items()], columns=('submitter_id', 'WSI'))\n",
    "dataframe = dataframe.merge(WSI_mapping, how='left', on='submitter_id')"
   ]
  },
  {
   "cell_type": "markdown",
   "id": "8cc1c8dd",
   "metadata": {},
   "source": [
    "# Extract patches\n",
    "\n",
    "The first step is to extract patches for each patient. For each WSI, $n$ patches of size $s \\times s$ are extracted from the low-resolution tissue mask. From these $n$ patches, we choose to keep only the $k$ with the best scores. Each patch is converted to HSV and a filter is applied to retain only the cells, from which the score is deduced. The code below illustrates this strategy with a single slide and with $n=10$ and $k=5$.\n",
    "\n",
    "**NB: In our experiments**\n",
    "$n = 1000$\n",
    "$s = 256$\n",
    "$k = 100$"
   ]
  },
  {
   "cell_type": "code",
   "execution_count": null,
   "id": "d42bcfaa",
   "metadata": {},
   "outputs": [],
   "source": [
    "## take a random slide\n",
    "path = '/archive/medical/tcga_lgg/wsi/'\n",
    "paths = os.listdir(path)\n",
    "p = os.path.join(path, paths[1])\n",
    "files = os.listdir(p)\n",
    "wsi = os.path.join(path, p, [f for f in files if f.endswith('svs')][0])\n",
    "slide = pyvips.Image.new_from_file(wsi)"
   ]
  },
  {
   "cell_type": "code",
   "execution_count": null,
   "id": "40f63621",
   "metadata": {},
   "outputs": [],
   "source": [
    "def get_masked_hsv(patch: np.ndarray):\n",
    "    patch = cv2.cvtColor(patch, cv2.COLOR_RGB2HSV)\n",
    "    mask = np.tile(patch[:,:,1] > 150, (3, 1, 1)).transpose(1,2,0) * np.tile(patch[:,:,2] < 150, (3, 1, 1)).transpose(1,2,0)\n",
    "    return patch*mask\n",
    "\n",
    "class PatchExtractor:\n",
    "    '''\n",
    "    This is slightly modified version of the true patch extractor.\n",
    "    These modifications are done for visualization purposes...\n",
    "    '''\n",
    "    def __init__(self, num_patches, patch_size, iterations, s_min: int = 150, v_max: int = 150):\n",
    "        self.num_patches = num_patches\n",
    "        self.patch_size = patch_size\n",
    "        self.iterations = iterations\n",
    "        self.s_min = s_min\n",
    "        self.v_max = v_max\n",
    "    \n",
    "    def patch_to_score(self, patch: np.ndarray):\n",
    "        mask = np.tile(patch[:,:,1] > self.s_min, (3, 1, 1)).transpose(1,2,0) * np.tile(patch[:,:,2] < self.v_max, (3, 1, 1)).transpose(1,2,0)\n",
    "        return (mask.sum(-1)/3).sum()\n",
    "\n",
    "    @staticmethod\n",
    "    def _from_idx_to_row_col(idx, width):\n",
    "        row = (idx // width)\n",
    "        col = (idx % width) \n",
    "        return (row, col)\n",
    "    \n",
    "    \n",
    "    def __call__(self, slide, mask):\n",
    "        patches_buffer = {}\n",
    "        idx_buffer = {}\n",
    "        factor = int(slide.width / mask.shape[1])\n",
    "        delta = int(self.patch_size / factor)\n",
    "        mask = torch.from_numpy(mask).unsqueeze(0).unsqueeze(0).float()\n",
    "        kernel = torch.ones(1, 1, delta, delta)\n",
    "        probabilities = F.conv2d(mask, kernel, stride=(delta, delta))\n",
    "        probabilities = probabilities.squeeze()\n",
    "        n_samples = torch.argwhere(probabilities).size(0) if torch.argwhere(probabilities).size(0) < self.iterations else self.iterations\n",
    "        indexes = torch.multinomial(probabilities.view(-1), n_samples, replacement=False)\n",
    "        for idx in indexes:\n",
    "            patch, idx = self._from_idx_to_patch(slide, idx, probabilities.size(1))\n",
    "            score = int(self.patch_to_score(cv2.cvtColor(patch, cv2.COLOR_RGB2HSV)))\n",
    "            patches_buffer[score] = patch\n",
    "            patches_buffer = dict(sorted(patches_buffer.items(), key=lambda x: x[0], reverse=True))\n",
    "            idx_buffer[score] = idx\n",
    "            idx_buffer = dict(sorted(idx_buffer.items(), key=lambda x: x[0], reverse=True))\n",
    "            #patches_buffer = dict(itertools.islice(patches_buffer.items(), self.num_patches))\n",
    "        \n",
    "        return patches_buffer, idx_buffer\n",
    "    \n",
    "    def _from_idx_to_patch(self, slide, idx, width):\n",
    "        idx = self._from_idx_to_row_col(idx, width)\n",
    "        row = idx[0] * self.patch_size\n",
    "        col = idx[1] * self.patch_size\n",
    "        region = slide.crop(int(col), int(row), self.patch_size, self.patch_size)\n",
    "        patch = np.ndarray(buffer=region.write_to_memory(),\n",
    "                                dtype=np.uint8,\n",
    "                                shape=(region.height, region.width, region.bands))\n",
    "        \n",
    "        return cv2.cvtColor(patch, cv2.COLOR_RGBA2RGB), idx"
   ]
  },
  {
   "cell_type": "code",
   "execution_count": null,
   "id": "6d2b3682",
   "metadata": {
    "scrolled": true
   },
   "outputs": [],
   "source": [
    "%%time\n",
    "import torch.nn.functional as F\n",
    "extractor = PatchExtractor(5, 512, 10, 130, 170)\n",
    "patches, idx = extractor(slide, np.load('/'.join(slide.filename.split('/')[:-1] + ['mask.npy'])))"
   ]
  },
  {
   "cell_type": "code",
   "execution_count": null,
   "id": "398f2cb5",
   "metadata": {
    "scrolled": true
   },
   "outputs": [],
   "source": [
    "validated_patches = {k: patches[k] for k in list(patches.keys())[:5]}\n",
    "validated_index = {k: idx[k] for k in list(idx.keys())[:5]}\n",
    "discarded_patches = {k: patches[k] for k in list(patches.keys())[5:]}\n",
    "discarded_index = {k: idx[k] for k in list(idx.keys())[5:]}"
   ]
  },
  {
   "cell_type": "code",
   "execution_count": null,
   "id": "61394bed",
   "metadata": {},
   "outputs": [],
   "source": [
    "plt.figure(figsize=(20,12))\n",
    "plt.suptitle('Selected patches', y=0.6, fontsize=20)\n",
    "for i, (score, patch) in enumerate(validated_patches.items()):\n",
    "    plt.subplot(2, len(validated_patches), i+1)\n",
    "    plt.axis('off')\n",
    "    plt.imshow(patch)\n",
    "    plt.subplot(2, len(validated_patches), (i+1)+len(validated_patches))\n",
    "    plt.axis('off')\n",
    "    plt.title(f'Score: {score}', fontsize=16)\n",
    "    plt.imshow(get_masked_hsv(patch))\n",
    "plt.subplots_adjust(\n",
    "                    top=0.55, \n",
    "                    wspace=0.1, \n",
    "                    hspace=0.1)\n",
    "plt.show()\n",
    "plt.figure(figsize=(20,12))\n",
    "plt.suptitle('Discarded patches', y=0.6, fontsize=20)\n",
    "for i, (score, patch) in enumerate(discarded_patches.items()):\n",
    "    plt.subplot(2, len(discarded_patches), i+1)\n",
    "    plt.axis('off')\n",
    "    plt.imshow(patch)\n",
    "    plt.subplot(2, len(discarded_patches), (i+1)+len(discarded_patches))\n",
    "    plt.axis('off')\n",
    "    plt.title(f'Score: {score}', fontsize=16)\n",
    "    plt.imshow(get_masked_hsv(patch))\n",
    "plt.subplots_adjust(\n",
    "                    top=0.55, \n",
    "                    wspace=0.1, \n",
    "                    hspace=0.1)\n",
    "plt.show()"
   ]
  },
  {
   "cell_type": "code",
   "execution_count": null,
   "id": "de76fe47",
   "metadata": {},
   "outputs": [],
   "source": [
    "thumbnail = np.array(Image.open('/'.join(slide.filename.split('/')[:-1] + ['thumbnail.jpg'])))\n",
    "plt.figure(figsize=(6,6))\n",
    "plt.imshow(thumbnail)\n",
    "plt.axis('off')\n",
    "plt.scatter(np.array(list(validated_index.values()))[:, 1] * 4, np.array(list(validated_index.values()))[:, 0] * 4, color='limegreen', marker='X', s=100)\n",
    "plt.scatter(np.array(list(discarded_index.values()))[:, 1] * 4, np.array(list(discarded_index.values()))[:, 0] * 4, color='red', marker='X', s=100)\n",
    "plt.show()"
   ]
  },
  {
   "cell_type": "markdown",
   "id": "627878b8",
   "metadata": {},
   "source": [
    "In the figure above, the red crosses are the patches that have not been retained and the others are those that have been retained."
   ]
  },
  {
   "cell_type": "markdown",
   "id": "2c520d69",
   "metadata": {},
   "source": [
    "# Extraction job\n",
    "\n",
    "This is where the patch extraction code resides. Note that some slides have a magnification of **x40** and others **x20**. To have the same resolution for each patient and work at iso-micron-per-pixel, patches of size $2s \\times 2s$ are extracted and then downsampled before being scored for slides with **x40** magnification."
   ]
  },
  {
   "cell_type": "code",
   "execution_count": null,
   "id": "578abe9b",
   "metadata": {},
   "outputs": [],
   "source": [
    "class PatchExtractor:\n",
    "    def __init__(self, num_patches, patch_size, iterations, s_min: int = 120, v_max: int = 150, v_min: int = 40):\n",
    "        self.num_patches = num_patches\n",
    "        self.patch_size = patch_size\n",
    "        self.iterations = iterations\n",
    "        self.s_min = s_min\n",
    "        self.v_max = v_max\n",
    "        self.v_min = v_min\n",
    "    \n",
    "    def patch_to_score(self, patch: np.ndarray) -> int:\n",
    "        mask = np.tile(patch[:,:,1] > self.s_min, (3, 1, 1)).transpose(1,2,0) * np.tile(patch[:,:,2] < self.v_max, (3, 1, 1)).transpose(1,2,0) * np.tile(patch[:,:,2] > self.v_min, (3, 1, 1)).transpose(1,2,0)\n",
    "        return (mask.sum(-1)/3).sum()\n",
    "\n",
    "    @staticmethod\n",
    "    def _from_idx_to_row_col(idx: int, width: int) -> Tuple[int, int]:\n",
    "        row = (idx // width)\n",
    "        col = (idx % width) \n",
    "        return (row, col)\n",
    "    \n",
    "    \n",
    "    def __call__(self, slide: pyvips.Image, mask: np.ndarray) -> Dict[int, np.ndarray]:\n",
    "        patches_buffer = {}\n",
    "        factor = int(slide.width / mask.shape[1])\n",
    "        delta = int(self.patch_size / factor)\n",
    "        if delta == 3:\n",
    "            delta = 4\n",
    "        mask = torch.from_numpy(mask).unsqueeze(0).unsqueeze(0).float()\n",
    "        kernel = torch.ones(1, 1, delta, delta)\n",
    "        probabilities = F.conv2d(mask, kernel, stride=(delta, delta))\n",
    "        probabilities = probabilities.squeeze()\n",
    "        if torch.argwhere(probabilities).size(0) < self.num_patches:\n",
    "            print(f'The mask was too small ({torch.argwhere(probabilities).size(0)}), so you could pick anywhere in the slide')\n",
    "            probabilities = torch.ones_like(probabilities)\n",
    "            print(f'Number of potential patches now: {torch.argwhere(probabilities).size(0)}')\n",
    "        n_samples = torch.argwhere(probabilities).size(0) if torch.argwhere(probabilities).size(0) < self.iterations else self.iterations\n",
    "        indexes = torch.multinomial(probabilities.view(-1), n_samples, replacement=False)\n",
    "        for idx in indexes:\n",
    "            patch = self._from_idx_to_patch(slide, idx, probabilities.size(1))\n",
    "            if self.patch_size == 512:\n",
    "                patch = cv2.resize(patch, (256, 256))\n",
    "            score = self.patch_to_score(cv2.cvtColor(patch, cv2.COLOR_RGB2HSV))\n",
    "            if score in list(patches_buffer.keys()):\n",
    "                score += random.random()\n",
    "            patches_buffer[score] = patch\n",
    "            patches_buffer = dict(sorted(patches_buffer.items(), key=lambda x: x[0], reverse=True))\n",
    "            patches_buffer = dict(itertools.islice(patches_buffer.items(), self.num_patches))\n",
    "        \n",
    "        return patches_buffer\n",
    "    \n",
    "    def _from_idx_to_patch(self, slide: pyvips.Image, idx: int, width: int) -> np.ndarray:\n",
    "        idx = self._from_idx_to_row_col(idx, width)\n",
    "        row = idx[0] * self.patch_size\n",
    "        col = idx[1] * self.patch_size\n",
    "        region = slide.crop(int(col), int(row), self.patch_size, self.patch_size)\n",
    "        patch = np.ndarray(buffer=region.write_to_memory(),\n",
    "                                dtype=np.uint8,\n",
    "                                shape=(region.height, region.width, region.bands))\n",
    "        \n",
    "        return cv2.cvtColor(patch, cv2.COLOR_RGBA2RGB)"
   ]
  },
  {
   "cell_type": "code",
   "execution_count": null,
   "id": "15de865b",
   "metadata": {
    "scrolled": true
   },
   "outputs": [],
   "source": [
    "%%time\n",
    "mapping_path = 'wsi_mapping.json'\n",
    "mapping = json.load(open(mapping_path, 'r'))\n",
    "num_patches = 100\n",
    "iterations = 1000\n",
    "patch_size = 256\n",
    "for patient, wsi_path in tqdm.tqdm(mapping.items()):\n",
    "    folder = '/'.join(wsi_path.split('/')[:-1])\n",
    "    if os.path.exists(os.path.join(folder, 'patches')) and len(os.listdir(os.path.join(folder, 'patches'))) == num_patches:\n",
    "        print('Done for patient: ', patient)\n",
    "        continue\n",
    "    slide = pyvips.Image.new_from_file(wsi_path)\n",
    "    if int(float(slide.get('aperio.AppMag'))) == 40:\n",
    "        extractor = PatchExtractor(num_patches=num_patches, patch_size=patch_size*2, iterations=iterations, s_min=130, v_max=170)\n",
    "    else:\n",
    "        extractor = PatchExtractor(num_patches=num_patches, patch_size=patch_size, iterations=iterations, s_min=130, v_max=170)\n",
    "    mask = np.load(os.path.join(folder, 'mask.npy'))\n",
    "    patches = extractor(slide, mask)\n",
    "    if not os.path.exists(os.path.join(folder, 'patches')):\n",
    "        os.makedirs(os.path.join(folder, 'patches'))\n",
    "    \n",
    "    if len(patches) != 100:\n",
    "        print(patient, len(patches))\n",
    "    for i, (score, patch) in enumerate(patches.items()):\n",
    "        patch = Image.fromarray(patch)\n",
    "        patch.save(os.path.join(folder, 'patches', f'{int(i)}_{int(score)}.png'))\n",
    "        "
   ]
  },
  {
   "cell_type": "code",
   "execution_count": null,
   "id": "952cc19e",
   "metadata": {},
   "outputs": [],
   "source": [
    "# Sanity check\n",
    "for patient, wsi_path in tqdm.tqdm(mapping.items()):\n",
    "    folder = '/'.join(wsi_path.split('/')[:-1])\n",
    "    if len(os.listdir(os.path.join(folder, 'patches'))) != 100:\n",
    "        print('Abnormal number of patches')\n",
    "    \n",
    "    patches = os.listdir(os.path.join(folder, 'patches'))\n",
    "    for patch in patches:\n",
    "        patch = os.path.join(folder, 'patches', patch)\n",
    "        patch = np.array(Image.open(patch))\n",
    "        if patch.shape != (256, 256, 3):\n",
    "            print('Abnormal patch size, expected (256, 256, 3) got {patch.shape}')"
   ]
  },
  {
   "cell_type": "markdown",
   "id": "bacf454e",
   "metadata": {},
   "source": [
    "# Self-supervised contrastive training\n",
    "\n",
    "To reduce the dimensionality of the WSIs, we already carry out a pre-training on the patches extracted, which will be used to extract for each patient k (100 in our case) embedding of size 512 or 1024. Here we use a ResNet34 that we train with the SimCLR framework.\n",
    "\n",
    "To do this, simply go to the root of the project and run the CLI:\n",
    "\n",
    "```\n",
    "$ python -m data.run_wsi_pretraining\n",
    "```\n",
    "\n",
    "Batch size, number of gpus, learning rate and weight decay can be adjusted on the command line. <br>\n",
    "Once that's done, we retrieve the pre-trained model `models/wsi_encoder.pth` and we infer all these patches for each patient, which we store in a dataframe in the format $k \\times e_{dim}$\n",
    "\n",
    "# Embeddings extraction"
   ]
  },
  {
   "cell_type": "code",
   "execution_count": null,
   "id": "bcbb655b",
   "metadata": {},
   "outputs": [],
   "source": [
    "def clean_state_dict(state_dict):\n",
    "    new_state_dict = {}\n",
    "    for key, value in state_dict.items():\n",
    "        if 'module.encoder' in key:\n",
    "            new_state_dict[key[15:]] = value\n",
    "        else:\n",
    "            new_state_dict[key] = value\n",
    "    return new_state_dict\n",
    "\n",
    "\n",
    "extractor = torchvision.models.resnet34()\n",
    "extractor.fc = torch.nn.Identity()\n",
    "state_dict = clean_state_dict(torch.load('./models/wsi_encoder.pth'))\n",
    "extractor.load_state_dict(state_dict, strict=False)\n",
    "extractor.eval()\n",
    "print()"
   ]
  },
  {
   "cell_type": "code",
   "execution_count": null,
   "id": "0690e90b",
   "metadata": {},
   "outputs": [],
   "source": [
    "with open('mappings/wsi_mapping.json', 'r') as f:\n",
    "    mapping = json.load(f)"
   ]
  },
  {
   "cell_type": "code",
   "execution_count": null,
   "id": "c6342be9",
   "metadata": {
    "scrolled": true
   },
   "outputs": [],
   "source": [
    "output_path = os.path.join(base_path, 'WSI')\n",
    "if not os.path.exists(output_path):\n",
    "    os.makedirs(output_path)\n",
    "\n",
    "file_map = {}\n",
    "for patient, path in tqdm.tqdm(mapping.items(), total=len(mapping)):\n",
    "    idx = path.split('/')[-2]\n",
    "    patches_path = os.path.join('/'.join(path.split('/')[:-1]), 'patches')\n",
    "    patches = os.listdir(patches_path)\n",
    "    patches = [ToTensor()(np.array(Image.open(os.path.join(patches_path, patch)))) for patch in patches]\n",
    "    patches = torch.stack(patches)\n",
    "    with torch.no_grad():\n",
    "        embeddings = extractor(patches)\n",
    "        \n",
    "    temp_df = pd.DataFrame(embeddings)\n",
    "    final_path = os.path.join(output_path, idx, f'{patient}.csv')\n",
    "    temp_df.to_csv(final_path, index=False)\n",
    "    file_map[patient] = final_path"
   ]
  },
  {
   "cell_type": "code",
   "execution_count": null,
   "id": "ce51bb2a",
   "metadata": {},
   "outputs": [],
   "source": [
    "output_path = os.path.join(base_path, 'WSI')\n",
    "if not os.path.exists(output_path):\n",
    "    os.makedirs(output_path)\n",
    "\n",
    "file_map = {}\n",
    "i=0\n",
    "extractor.eval()\n",
    "for patient, path in tqdm.tqdm(mapping.items(), total=len(mapping)):\n",
    "    i+=1\n",
    "    idx = path.split('/')[-2]\n",
    "    if not os.path.exists(os.path.join(output_path, idx)):\n",
    "        os.makedirs(os.path.join(output_path, idx))\n",
    "    patches_path = os.path.join('/'.join(path.split('/')[:-1]), 'patches')\n",
    "    patches = os.listdir(patches_path)\n",
    "    patches = [ToTensor()(np.array(Image.open(os.path.join(patches_path, patch)))) for patch in patches]\n",
    "    patches = torch.stack(patches)\n",
    "    with torch.no_grad():\n",
    "        embeddings = extractor(patches)\n",
    "    \n",
    "    temp_df = pd.DataFrame(embeddings)\n",
    "    final_path = os.path.join(output_path, idx, f'{patient}.csv')\n",
    "    temp_df.to_csv(final_path, index=False)\n",
    "    file_map[patient] = final_path"
   ]
  },
  {
   "cell_type": "code",
   "execution_count": null,
   "id": "ecc19a87",
   "metadata": {},
   "outputs": [],
   "source": [
    "WSI_mapping = pd.DataFrame([(k, v) for k, v in file_map.items()], columns=('submitter_id', 'WSI'))\n",
    "dataframe.drop(columns=['WSI'], inplace=True)\n",
    "dataframe = dataframe.merge(WSI_mapping, how='left', on='submitter_id')"
   ]
  },
  {
   "cell_type": "markdown",
   "id": "85f395f4",
   "metadata": {},
   "source": [
    "# 7. Cross-validation splits <a name=\"p7\"></a>\n",
    "We choose to perform a StratifiedKFold with $k = 5$, the stratification is done using the `project_id` criteria."
   ]
  },
  {
   "cell_type": "code",
   "execution_count": 80,
   "id": "3430044f",
   "metadata": {
    "scrolled": false
   },
   "outputs": [
    {
     "name": "stdout",
     "output_type": "stream",
     "text": [
      "Project id: {'GBM': 95, 'LGG': 83}\n",
      "Ratio censored/non_censored: event\n",
      "1    95\n",
      "0    83\n",
      "Name: count, dtype: int64\n"
     ]
    },
    {
     "name": "stderr",
     "output_type": "stream",
     "text": [
      "/tmp/ipykernel_7082/1080552726.py:10: SettingWithCopyWarning: \n",
      "A value is trying to be set on a copy of a slice from a DataFrame.\n",
      "Try using .loc[row_indexer,col_indexer] = value instead\n",
      "\n",
      "See the caveats in the documentation: https://pandas.pydata.org/pandas-docs/stable/user_guide/indexing.html#returning-a-view-versus-a-copy\n",
      "  train_brain['split'] = splits.astype(int)\n"
     ]
    },
    {
     "data": {
      "image/png": "[encoded data removed]",
      "text/plain": [
       "<Figure size 640x480 with 1 Axes>"
      ]
     },
     "metadata": {},
     "output_type": "display_data"
    },
    {
     "name": "stdout",
     "output_type": "stream",
     "text": [
      "Project id: {'GBM': 95, 'LGG': 82}\n",
      "Ratio censored/non_censored: event\n",
      "1    102\n",
      "0     75\n",
      "Name: count, dtype: int64\n"
     ]
    },
    {
     "data": {
      "image/png": "[encoded data removed]",
      "text/plain": [
       "<Figure size 640x480 with 1 Axes>"
      ]
     },
     "metadata": {},
     "output_type": "display_data"
    },
    {
     "name": "stdout",
     "output_type": "stream",
     "text": [
      "Project id: {'GBM': 95, 'LGG': 82}\n",
      "Ratio censored/non_censored: event\n",
      "1    91\n",
      "0    86\n",
      "Name: count, dtype: int64\n"
     ]
    },
    {
     "data": {
      "image/png": "[encoded data removed]",
      "text/plain": [
       "<Figure size 640x480 with 1 Axes>"
      ]
     },
     "metadata": {},
     "output_type": "display_data"
    },
    {
     "name": "stdout",
     "output_type": "stream",
     "text": [
      "Project id: {'GBM': 95, 'LGG': 82}\n",
      "Ratio censored/non_censored: event\n",
      "1    102\n",
      "0     75\n",
      "Name: count, dtype: int64\n"
     ]
    },
    {
     "data": {
      "image/png": "[encoded data removed]",
      "text/plain": [
       "<Figure size 640x480 with 1 Axes>"
      ]
     },
     "metadata": {},
     "output_type": "display_data"
    },
    {
     "name": "stdout",
     "output_type": "stream",
     "text": [
      "Project id: {'GBM': 95, 'LGG': 82}\n",
      "Ratio censored/non_censored: event\n",
      "1    102\n",
      "0     75\n",
      "Name: count, dtype: int64\n"
     ]
    },
    {
     "data": {
      "image/png": "[encoded data removed]",
      "text/plain": [
       "<Figure size 640x480 with 1 Axes>"
      ]
     },
     "metadata": {},
     "output_type": "display_data"
    }
   ],
   "source": [
    "train_brain = dataframe[dataframe.group == 'train']\n",
    "test_brain = dataframe[dataframe.group == 'test']\n",
    "\n",
    "skf = StratifiedKFold(n_splits=5, shuffle=True, random_state=2023)\n",
    "splits = np.zeros(len(train_brain))\n",
    "for i, (_, fold_idx) in enumerate(skf.split(train_brain, train_brain.project_id)):\n",
    "    splits[fold_idx] = i\n",
    "\n",
    "\n",
    "train_brain['split'] = splits.astype(int)\n",
    "\n",
    "# sanity check\n",
    "project_id = []\n",
    "modalities = []\n",
    "event = []\n",
    "for i in range(5):\n",
    "    temp_df = train_brain[train_brain.split == int(i)]\n",
    "    project_id.append(dict(temp_df.project_id.value_counts()))\n",
    "    event.append(dict(temp_df.event.value_counts()))\n",
    "    print(f'Project id: {dict(temp_df.project_id.value_counts())}')\n",
    "    print(f'Ratio censored/non_censored: {temp_df.event.value_counts()}')\n",
    "    temp_modalities = {}\n",
    "    for modality in ['MRI']: #['RNA', 'DNAm', 'MRI', 'WSI']:\n",
    "        temp_modalities[modality] = sum(temp_df[modality].isna()) / len(temp_df)\n",
    "    modalities.append(temp_modalities)\n",
    "    plt.hist(temp_df.time.values)\n",
    "    plt.show()"
   ]
  },
  {
   "cell_type": "code",
   "execution_count": 81,
   "id": "2d282888",
   "metadata": {},
   "outputs": [
    {
     "data": {
      "text/plain": [
       "[{'MRI': 0.8426966292134831},\n",
       " {'MRI': 0.847457627118644},\n",
       " {'MRI': 0.8757062146892656},\n",
       " {'MRI': 0.8587570621468926},\n",
       " {'MRI': 0.864406779661017}]"
      ]
     },
     "execution_count": 81,
     "metadata": {},
     "output_type": "execute_result"
    }
   ],
   "source": [
    "modalities"
   ]
  },
  {
   "cell_type": "markdown",
   "id": "69e1d6ca",
   "metadata": {},
   "source": [
    "## RNA Scalers"
   ]
  },
  {
   "cell_type": "code",
   "execution_count": 29,
   "id": "12f1481b",
   "metadata": {
    "scrolled": true
   },
   "outputs": [
    {
     "ename": "AttributeError",
     "evalue": "'DataFrame' object has no attribute 'RNA'",
     "output_type": "error",
     "traceback": [
      "\u001b[0;31m---------------------------------------------------------------------------\u001b[0m",
      "\u001b[0;31mAttributeError\u001b[0m                            Traceback (most recent call last)",
      "\u001b[0;32m/tmp/ipykernel_5898/1963035407.py\u001b[0m in \u001b[0;36m?\u001b[0;34m()\u001b[0m\n\u001b[1;32m      2\u001b[0m     \u001b[0;32mreturn\u001b[0m \u001b[0mnp\u001b[0m\u001b[0;34m.\u001b[0m\u001b[0mlog\u001b[0m\u001b[0;34m(\u001b[0m\u001b[0mx\u001b[0m \u001b[0;34m+\u001b[0m \u001b[0;36m1\u001b[0m\u001b[0;34m)\u001b[0m\u001b[0;34m\u001b[0m\u001b[0;34m\u001b[0m\u001b[0m\n\u001b[1;32m      3\u001b[0m \u001b[0;34m\u001b[0m\u001b[0m\n\u001b[1;32m      4\u001b[0m \u001b[0;32mfor\u001b[0m \u001b[0msplit\u001b[0m \u001b[0;32min\u001b[0m \u001b[0mtrain_brain\u001b[0m\u001b[0;34m.\u001b[0m\u001b[0msplit\u001b[0m\u001b[0;34m.\u001b[0m\u001b[0munique\u001b[0m\u001b[0;34m(\u001b[0m\u001b[0;34m)\u001b[0m\u001b[0;34m:\u001b[0m\u001b[0;34m\u001b[0m\u001b[0;34m\u001b[0m\u001b[0m\n\u001b[1;32m      5\u001b[0m     \u001b[0mtemp_df\u001b[0m \u001b[0;34m=\u001b[0m \u001b[0mtrain_brain\u001b[0m\u001b[0;34m[\u001b[0m\u001b[0mtrain_brain\u001b[0m\u001b[0;34m.\u001b[0m\u001b[0msplit\u001b[0m \u001b[0;34m!=\u001b[0m \u001b[0mint\u001b[0m\u001b[0;34m(\u001b[0m\u001b[0msplit\u001b[0m\u001b[0;34m)\u001b[0m\u001b[0;34m]\u001b[0m\u001b[0;34m\u001b[0m\u001b[0;34m\u001b[0m\u001b[0m\n\u001b[0;32m----> 6\u001b[0;31m     \u001b[0mtemp_df\u001b[0m \u001b[0;34m=\u001b[0m \u001b[0mpd\u001b[0m\u001b[0;34m.\u001b[0m\u001b[0mconcat\u001b[0m\u001b[0;34m(\u001b[0m\u001b[0;34m[\u001b[0m\u001b[0mpd\u001b[0m\u001b[0;34m.\u001b[0m\u001b[0mread_csv\u001b[0m\u001b[0;34m(\u001b[0m\u001b[0mpath\u001b[0m\u001b[0;34m)\u001b[0m\u001b[0;34m.\u001b[0m\u001b[0mset_index\u001b[0m\u001b[0;34m(\u001b[0m\u001b[0;34m'gene_id'\u001b[0m\u001b[0;34m)\u001b[0m \u001b[0;32mfor\u001b[0m \u001b[0mpath\u001b[0m \u001b[0;32min\u001b[0m \u001b[0mtemp_df\u001b[0m\u001b[0;34m.\u001b[0m\u001b[0mRNA\u001b[0m \u001b[0;32mif\u001b[0m \u001b[0;32mnot\u001b[0m \u001b[0mpd\u001b[0m\u001b[0;34m.\u001b[0m\u001b[0misna\u001b[0m\u001b[0;34m(\u001b[0m\u001b[0mpath\u001b[0m\u001b[0;34m)\u001b[0m\u001b[0;34m]\u001b[0m\u001b[0;34m,\u001b[0m \u001b[0maxis\u001b[0m\u001b[0;34m=\u001b[0m\u001b[0;36m1\u001b[0m\u001b[0;34m)\u001b[0m\u001b[0;34m.\u001b[0m\u001b[0mT\u001b[0m\u001b[0;34m\u001b[0m\u001b[0;34m\u001b[0m\u001b[0m\n\u001b[0m\u001b[1;32m      7\u001b[0m     \u001b[0mprint\u001b[0m\u001b[0;34m(\u001b[0m\u001b[0mtemp_df\u001b[0m\u001b[0;34m.\u001b[0m\u001b[0mshape\u001b[0m\u001b[0;34m)\u001b[0m\u001b[0;34m\u001b[0m\u001b[0;34m\u001b[0m\u001b[0m\n\u001b[1;32m      8\u001b[0m     \u001b[0mscaler\u001b[0m \u001b[0;34m=\u001b[0m \u001b[0mStandardScaler\u001b[0m\u001b[0;34m(\u001b[0m\u001b[0;34m)\u001b[0m\u001b[0;34m\u001b[0m\u001b[0;34m\u001b[0m\u001b[0m\n\u001b[1;32m      9\u001b[0m     \u001b[0mlog\u001b[0m \u001b[0;34m=\u001b[0m \u001b[0mFunctionTransformer\u001b[0m\u001b[0;34m(\u001b[0m\u001b[0mlog_transform\u001b[0m\u001b[0;34m)\u001b[0m\u001b[0;34m\u001b[0m\u001b[0;34m\u001b[0m\u001b[0m\n",
      "\u001b[0;32m/usr/local/lib/python3.10/dist-packages/pandas/core/generic.py\u001b[0m in \u001b[0;36m?\u001b[0;34m(self, name)\u001b[0m\n\u001b[1;32m   5985\u001b[0m             \u001b[0;32mand\u001b[0m \u001b[0mname\u001b[0m \u001b[0;32mnot\u001b[0m \u001b[0;32min\u001b[0m \u001b[0mself\u001b[0m\u001b[0;34m.\u001b[0m\u001b[0m_accessors\u001b[0m\u001b[0;34m\u001b[0m\u001b[0;34m\u001b[0m\u001b[0m\n\u001b[1;32m   5986\u001b[0m             \u001b[0;32mand\u001b[0m \u001b[0mself\u001b[0m\u001b[0;34m.\u001b[0m\u001b[0m_info_axis\u001b[0m\u001b[0;34m.\u001b[0m\u001b[0m_can_hold_identifiers_and_holds_name\u001b[0m\u001b[0;34m(\u001b[0m\u001b[0mname\u001b[0m\u001b[0;34m)\u001b[0m\u001b[0;34m\u001b[0m\u001b[0;34m\u001b[0m\u001b[0m\n\u001b[1;32m   5987\u001b[0m         ):\n\u001b[1;32m   5988\u001b[0m             \u001b[0;32mreturn\u001b[0m \u001b[0mself\u001b[0m\u001b[0;34m[\u001b[0m\u001b[0mname\u001b[0m\u001b[0;34m]\u001b[0m\u001b[0;34m\u001b[0m\u001b[0;34m\u001b[0m\u001b[0m\n\u001b[0;32m-> 5989\u001b[0;31m         \u001b[0;32mreturn\u001b[0m \u001b[0mobject\u001b[0m\u001b[0;34m.\u001b[0m\u001b[0m__getattribute__\u001b[0m\u001b[0;34m(\u001b[0m\u001b[0mself\u001b[0m\u001b[0;34m,\u001b[0m \u001b[0mname\u001b[0m\u001b[0;34m)\u001b[0m\u001b[0;34m\u001b[0m\u001b[0;34m\u001b[0m\u001b[0m\n\u001b[0m",
      "\u001b[0;31mAttributeError\u001b[0m: 'DataFrame' object has no attribute 'RNA'"
     ]
    }
   ],
   "source": [
    "def log_transform(x):\n",
    "    return np.log(x + 1)\n",
    "\n",
    "for split in train_brain.split.unique():\n",
    "    temp_df = train_brain[train_brain.split != int(split)]\n",
    "    temp_df = pd.concat([pd.read_csv(path).set_index('gene_id') for path in temp_df.RNA if not pd.isna(path)], axis=1).T\n",
    "    print(temp_df.shape)\n",
    "    scaler = StandardScaler()\n",
    "    log = FunctionTransformer(log_transform)\n",
    "    pipe = Pipeline(steps=[('log', log) , ('scaler', scaler)])\n",
    "    pipe.fit(temp_df.values)\n",
    "    dump(pipe, f'rna_preprocessors/trf_{int(split)}.joblib')\n",
    "    print('Done for split: ', int(split))"
   ]
  },
  {
   "cell_type": "markdown",
   "id": "405f4537",
   "metadata": {},
   "source": [
    "## One last word to conclude"
   ]
  },
  {
   "cell_type": "code",
   "execution_count": 82,
   "id": "2dedd177",
   "metadata": {},
   "outputs": [],
   "source": [
    "train_brain = train_brain.drop(columns=['group', 'Unnamed: 0', 'days_to_last_follow_up', 'vital_status', 'days_to_death'])\n",
    "test_brain = test_brain.drop(columns=['group', 'Unnamed: 0', 'days_to_last_follow_up', 'vital_status', 'days_to_death'])\n",
    "train_brain.to_csv('files/train_brain.csv', index=False)\n",
    "test_brain.to_csv('files/test_brain.csv', index=False)"
   ]
  },
  {
   "cell_type": "code",
   "execution_count": 83,
   "id": "be41c698",
   "metadata": {},
   "outputs": [],
   "source": [
    "dataframe.to_csv('files/dataframe_brain.csv')"
   ]
  },
  {
   "cell_type": "code",
   "execution_count": null,
   "id": "8e7433c8",
   "metadata": {},
   "outputs": [],
   "source": []
  }
 ],
 "metadata": {
  "kernelspec": {
   "display_name": "Python 3",
   "language": "python",
   "name": "python3"
  },
  "language_info": {
   "codemirror_mode": {
    "name": "ipython",
    "version": 3
   },
   "file_extension": ".py",
   "mimetype": "text/x-python",
   "name": "python",
   "nbconvert_exporter": "python",
   "pygments_lexer": "ipython3",
   "version": "3.10.12"
  }
 },
 "nbformat": 4,
 "nbformat_minor": 5
}
